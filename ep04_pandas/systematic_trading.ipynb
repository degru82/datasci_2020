{
 "cells": [
  {
   "cell_type": "markdown",
   "metadata": {},
   "source": [
    "# 주식투자전략 시뮬레이션 시스템 구축\n",
    "- [파이썬을 활용한 똑똑한 주식투자 (시스템 트레이딩)](https://www.youtube.com/watch?v=ED04jGkp4Sg)\n",
    "- [Pandas로 주식종목 가져오기](https://wendys.tistory.com/173)\n",
    "- [Pandas DataReader로 주식정보 가져오기](https://wendys.tistory.com/174)\n",
    "- [BackTrader를 이용한 주식전략 백테스팅 시뮬레이션](https://wendys.tistory.com/181?category=769564)\n",
    "- [R을 이용한 퀀트 투자](https://hyunyulhenry.github.io/quant_cookbook/%EA%B8%88%EC%9C%B5-%EB%8D%B0%EC%9D%B4%ED%84%B0-%EC%88%98%EC%A7%91%ED%95%98%EA%B8%B0-%EC%8B%AC%ED%99%94.html#dart%EC%9D%98-open-api%EB%A5%BC-%EC%9D%B4%EC%9A%A9%ED%95%9C-%EB%8D%B0%EC%9D%B4%ED%84%B0-%EC%88%98%EC%A7%91%ED%95%98%EA%B8%B0)"
   ]
  },
  {
   "cell_type": "code",
   "execution_count": null,
   "metadata": {},
   "outputs": [],
   "source": [
    "import pandas as pd\n",
    "df = pd.read_html('http://kind.krx.co.kr/corpgeneral/corpList.do?method=download', header=0)[0]"
   ]
  },
  {
   "cell_type": "code",
   "execution_count": null,
   "metadata": {},
   "outputs": [],
   "source": [
    "df.head()"
   ]
  },
  {
   "cell_type": "code",
   "execution_count": null,
   "metadata": {},
   "outputs": [],
   "source": [
    "tot_len, _ = df.shape\n",
    "for i in range(5):\n",
    "    company_name = df['회사명'][i]\n",
    "    stock_code_num = df['종목코드'][i]\n",
    "    if stock_code_num > 999999:\n",
    "        raise Exception(\"F**K\")\n",
    "    stock_code = f'A{stock_code_num:06}'\n",
    "    print(company_name, stock_code)"
   ]
  },
  {
   "cell_type": "code",
   "execution_count": null,
   "metadata": {},
   "outputs": [],
   "source": [
    "df[df['회사명'].str.contains('삼성전')]"
   ]
  },
  {
   "cell_type": "code",
   "execution_count": null,
   "metadata": {},
   "outputs": [],
   "source": [
    "df[df['회사명']=='삼성전자']"
   ]
  },
  {
   "cell_type": "code",
   "execution_count": null,
   "metadata": {},
   "outputs": [],
   "source": [
    "df2 = pd.read_html(\"https://finance.naver.com/sise/sise_market_sum.nhn?sosok=0&page=1\", header=1, encoding='euc-kr')"
   ]
  },
  {
   "cell_type": "code",
   "execution_count": null,
   "metadata": {},
   "outputs": [],
   "source": [
    "df2[1]"
   ]
  },
  {
   "cell_type": "code",
   "execution_count": null,
   "metadata": {},
   "outputs": [],
   "source": [
    "import sqlite3\n",
    "conn = sqlite3.connect('stockinfo.db')\n",
    "\n",
    "cur = conn.cursor()\n",
    "cur.execute('''\n",
    "CREATE TABLE stock_mast (\n",
    "    stock_code CHAR(7) PRIMARY KEY,\n",
    "    stock_name VARCHAR(20)\n",
    ")\n",
    "''')\n",
    "\n",
    "cur.execute('''\n",
    "CREATE TABLE \n",
    "''')"
   ]
  },
  {
   "cell_type": "code",
   "execution_count": null,
   "metadata": {},
   "outputs": [],
   "source": []
  },
  {
   "cell_type": "code",
   "execution_count": null,
   "metadata": {},
   "outputs": [],
   "source": []
  },
  {
   "cell_type": "code",
   "execution_count": null,
   "metadata": {},
   "outputs": [],
   "source": [
    "import pandas as pd\n",
    "\n",
    "daily_sise = \"https://finance.naver.com/item/sise_day.nhn?code={}K&page={}\"\n",
    "stock_code = 28513\n",
    "\n",
    "res = pd.read_html(daily_sise.format(stock_code, 1), encoding='euc-kr')\n",
    "\n",
    "res"
   ]
  },
  {
   "cell_type": "code",
   "execution_count": null,
   "metadata": {},
   "outputs": [],
   "source": [
    "import requests\n",
    "from bs4 import BeautifulSoup\n",
    "\n",
    "res = requests.get(daily_sise.format(stock_code, 1))\n",
    "soup = BeautifulSoup(res.text, 'html.parser')\n",
    "\n",
    "td_pgRR = soup.find_all('td', class_=\"pgRR\")[0]\n",
    "td_pgRR.a['href']"
   ]
  },
  {
   "cell_type": "code",
   "execution_count": null,
   "metadata": {},
   "outputs": [],
   "source": [
    "import re\n",
    "\n",
    "ext = re.compile('page=(\\d*)')\n",
    "res = ext.search(td_pgRR.a['href'])\n",
    "res.group(1)"
   ]
  },
  {
   "cell_type": "code",
   "execution_count": null,
   "metadata": {},
   "outputs": [],
   "source": [
    "max_page = int(res.group(1))"
   ]
  },
  {
   "cell_type": "code",
   "execution_count": null,
   "metadata": {},
   "outputs": [],
   "source": [
    "daily_sise_df = pd.DataFrame()\n",
    "\n",
    "for i in range(1, max_page+1):\n",
    "    tmp = pd.read_html(daily_sise.format(stock_code, i), encoding='euc-kr')[0]\n",
    "    #print(tmp)\n",
    "    #print(tmp['종가'].notna())\n",
    "    tmp_df = tmp[tmp['종가'].notna()]\n",
    "    print(tmp_df)\n",
    "    if daily_sise_df.empty:\n",
    "        daily_sise_df = tmp_df\n",
    "    else:\n",
    "        daily_sise_df = daily_sise_df.append(tmp_df, ignore_index=True)\n",
    "    \n",
    "daily_sise_df.shape"
   ]
  },
  {
   "cell_type": "code",
   "execution_count": null,
   "metadata": {},
   "outputs": [],
   "source": [
    "daily_sise_df"
   ]
  },
  {
   "cell_type": "code",
   "execution_count": null,
   "metadata": {},
   "outputs": [],
   "source": [
    "import pandas_datareader as pdr\n",
    "\n",
    "from datetime import datetime\n",
    "\n",
    "start = datetime(2018,1,1)\n",
    "end = datetime(2018,12,31)"
   ]
  },
  {
   "cell_type": "code",
   "execution_count": null,
   "metadata": {},
   "outputs": [],
   "source": [
    "df = pdr.DataReader('주식 종목코드', 'yahoo', start, end)"
   ]
  },
  {
   "cell_type": "code",
   "execution_count": null,
   "metadata": {},
   "outputs": [],
   "source": [
    "df = pdr.get_data_yahoo('주식 종목코드', start, end)"
   ]
  },
  {
   "cell_type": "markdown",
   "metadata": {},
   "source": [
    "---"
   ]
  },
  {
   "cell_type": "code",
   "execution_count": null,
   "metadata": {},
   "outputs": [],
   "source": [
    "%matplotlib inline"
   ]
  },
  {
   "cell_type": "code",
   "execution_count": null,
   "metadata": {},
   "outputs": [],
   "source": [
    "%matplotlib inline\n",
    "\n",
    "from datetime import datetime\n",
    "import backtrader as bt\n",
    "\n",
    "class SmaCross(bt.Strategy):\n",
    "    \n",
    "    params = dict(\n",
    "        pfast=5,\n",
    "        pslow=30\n",
    "    )\n",
    "    \n",
    "    def __init__(self):\n",
    "        sma1 = bt.ind.SMA(period=self.p.pfast)\n",
    "        sma2 = bt.ind.SMA(period=self.p.pslow)\n",
    "        self.crossover = bt.ind.CrossOver(sma1, sma2)\n",
    "        \n",
    "    def next(self):\n",
    "        if not self.position:\n",
    "            if self.crossover > 0:\n",
    "                close = self.data.close[0]\n",
    "                size = int(self.broker.getcash()/close)\n",
    "                \n",
    "                self.buy(size=size)\n",
    "                \n",
    "        elif self.crossover < 0:\n",
    "                self.close()\n",
    "                \n",
    "cerebro = bt.Cerebro()\n",
    "\n",
    "data = bt.feeds.YahooFinanceData(\n",
    "    dataname='005930.KS',\n",
    "    fromdate=datetime(2019,1,1),\n",
    "    todate=datetime(2019,12,31)\n",
    ")\n",
    "\n",
    "cerebro.adddata(data)\n",
    "cerebro.broker.setcash(1000000)\n",
    "cerebro.broker.setcommission(commission=0.00015)\n",
    "cerebro.addstrategy(SmaCross)\n",
    "\n",
    "cerebro.run()\n",
    "cerebro.plot()"
   ]
  },
  {
   "cell_type": "code",
   "execution_count": null,
   "metadata": {},
   "outputs": [],
   "source": []
  },
  {
   "cell_type": "code",
   "execution_count": null,
   "metadata": {},
   "outputs": [],
   "source": [
    "import pandas as pd\n",
    "import numpy as np\n",
    "import yfinance as yf\n",
    "import datetime as dt\n",
    "from pandas_datareader import data as pdr"
   ]
  },
  {
   "cell_type": "code",
   "execution_count": null,
   "metadata": {},
   "outputs": [],
   "source": [
    "yf.pdr_override()"
   ]
  },
  {
   "cell_type": "code",
   "execution_count": null,
   "metadata": {},
   "outputs": [],
   "source": [
    "startyear=2018\n",
    "startmonth=1\n",
    "startday=1\n",
    "\n",
    "start=dt.datetime(startyear,startmonth,startday)\n",
    "\n",
    "time_now=dt.datetime.now()\n"
   ]
  },
  {
   "cell_type": "code",
   "execution_count": null,
   "metadata": {},
   "outputs": [],
   "source": [
    "stock = \"\""
   ]
  },
  {
   "cell_type": "code",
   "execution_count": null,
   "metadata": {},
   "outputs": [],
   "source": [
    "df=pdr.get_data_yahoo(stock,start,time_now)"
   ]
  },
  {
   "cell_type": "code",
   "execution_count": null,
   "metadata": {},
   "outputs": [],
   "source": []
  },
  {
   "cell_type": "code",
   "execution_count": null,
   "metadata": {},
   "outputs": [],
   "source": []
  },
  {
   "cell_type": "code",
   "execution_count": null,
   "metadata": {},
   "outputs": [],
   "source": []
  },
  {
   "cell_type": "code",
   "execution_count": null,
   "metadata": {},
   "outputs": [],
   "source": []
  },
  {
   "cell_type": "code",
   "execution_count": null,
   "metadata": {},
   "outputs": [],
   "source": [
    "import numpy as np\n",
    "import pandas as pd\n"
   ]
  },
  {
   "cell_type": "code",
   "execution_count": null,
   "metadata": {},
   "outputs": [],
   "source": [
    "fnguide = \"http://comp.fnguide.com/SVO2/ASP/SVD_Invest.asp?pGB=1&gicode=A{}&cID=&MenuYn=Y&ReportGB=&NewMenuID=105&stkGb=701\""
   ]
  },
  {
   "cell_type": "code",
   "execution_count": null,
   "metadata": {},
   "outputs": [],
   "source": [
    "df_recv = pd.read_html(fnguide.format('005930'))"
   ]
  },
  {
   "cell_type": "code",
   "execution_count": null,
   "metadata": {},
   "outputs": [],
   "source": [
    "fnguide == fnguide_api"
   ]
  },
  {
   "cell_type": "code",
   "execution_count": null,
   "metadata": {},
   "outputs": [],
   "source": [
    "df_recv"
   ]
  },
  {
   "cell_type": "code",
   "execution_count": null,
   "metadata": {},
   "outputs": [],
   "source": [
    "df_recv[0]"
   ]
  },
  {
   "cell_type": "code",
   "execution_count": null,
   "metadata": {},
   "outputs": [],
   "source": [
    "df_recv[1]"
   ]
  }
 ],
 "metadata": {
  "kernelspec": {
   "display_name": "Python 3",
   "language": "python",
   "name": "python3"
  },
  "language_info": {
   "codemirror_mode": {
    "name": "ipython",
    "version": 3
   },
   "file_extension": ".py",
   "mimetype": "text/x-python",
   "name": "python",
   "nbconvert_exporter": "python",
   "pygments_lexer": "ipython3",
   "version": "3.6.5"
  }
 },
 "nbformat": 4,
 "nbformat_minor": 4
}
