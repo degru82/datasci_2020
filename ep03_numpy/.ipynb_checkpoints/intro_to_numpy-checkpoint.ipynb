{
 "cells": [
  {
   "cell_type": "markdown",
   "metadata": {},
   "source": [
    "# EP 3. NumPy Study\n",
    "- NumPy란 무엇일까\n",
    "- NumPy가 왜 필요할까\n",
    "- NumPy 배워보기\n",
    "- Wrap-Up"
   ]
  },
  {
   "cell_type": "code",
   "execution_count": 1,
   "metadata": {},
   "outputs": [
    {
     "data": {
      "text/plain": [
       "'1.16.1'"
      ]
     },
     "execution_count": 1,
     "metadata": {},
     "output_type": "execute_result"
    }
   ],
   "source": [
    "import numpy as np\n",
    "np.__version__"
   ]
  },
  {
   "cell_type": "markdown",
   "metadata": {},
   "source": [
    "# NumPy 란 무엇일까"
   ]
  },
  {
   "cell_type": "markdown",
   "metadata": {},
   "source": [
    "1. 일반 목적용 프로그래밍 언어를 통계용 프로그래밍 언어처럼 쓸 수 있게 해 줌\n",
    "  1. 통계나 수치분석에 적합한 자료형을 제공함\n",
    "  1. 통계나 수치분석에 적합한 함수들을 제공함\n",
    "1. 느려터진 파이썬에 숨통이 트일만한 속도를 제공해줌\n",
    "1. 솔까말, 넘파이 없었으면 파이썬 ㅈㅂ"
   ]
  },
  {
   "cell_type": "markdown",
   "metadata": {},
   "source": [
    "<img src=\"machine_learning_libraries.png\"/>"
   ]
  },
  {
   "cell_type": "markdown",
   "metadata": {},
   "source": [
    "# NumPy 가 왜 필요할까?"
   ]
  },
  {
   "cell_type": "markdown",
   "metadata": {},
   "source": [
    "## 통계용 언어와 일반 목적용 언어의 근본적인 차이점  \n",
    "- [1, 2, 3] + [4, 5, 6]의 값은?\n",
    "- [2, 4, 6] + 2 의 값은?"
   ]
  },
  {
   "cell_type": "code",
   "execution_count": 2,
   "metadata": {},
   "outputs": [
    {
     "name": "stdout",
     "output_type": "stream",
     "text": [
      "[1, 2, 3, 4, 5, 6]\n",
      "[1, 2, 3, 4, 5, 6, 2]\n"
     ]
    }
   ],
   "source": [
    "# 일반 목적용 Python은 이렇게 답한다\n",
    "\n",
    "a = [1, 2, 3]\n",
    "b = [4, 5, 6]\n",
    "\n",
    "c = a + b\n",
    "print(c)\n",
    "\n",
    "c = c + [2]\n",
    "print(c)"
   ]
  },
  {
   "cell_type": "markdown",
   "metadata": {},
   "source": [
    "## 상황에 과몰입하기\n",
    "\n",
    "어느 날 갑자기 상무님이 부르셨다  \n",
    "우리 담당의 LCP 평가의 산출 근거가 담긴 엑셀 파일을 주시며,  \n",
    "각 산출 근거별로 평균 값을 지금 이 자리에서 알고 싶다고 하셨다.  \n",
    "\n",
    "산출 근거는 개발언어/모델링/근속연차 등등 총 20가지의 항목이 있었고  \n",
    "담당 인원은 200명이었다.  \n",
    "어찌어찌해서 엑셀 자료를 파이썬 2차원 데이터로까지는 로딩할 수 있었는데,  \n",
    "과연 어떻게 평균을 구할 수 있을까!  \n",
    "\n",
    "위기탈출 넘파이!!  "
   ]
  },
  {
   "cell_type": "code",
   "execution_count": 3,
   "metadata": {},
   "outputs": [
    {
     "name": "stdout",
     "output_type": "stream",
     "text": [
      "[44, 47, 64, 67, 67, 9, 83, 21, 36, 87, 70, 88, 88, 12, 58, 65, 39, 87, 46, 88]\n",
      "[81, 37, 25, 77, 72, 9, 20, 80, 69, 79, 47, 64, 82, 99, 88, 49, 29, 19, 19, 14]\n",
      "[39, 32, 65, 9, 57, 32, 31, 74, 23, 35, 75, 55, 28, 34, 0, 0, 36, 53, 5, 38]\n",
      "[17, 79, 4, 42, 58, 31, 1, 65, 41, 57, 35, 11, 46, 82, 91, 0, 14, 99, 53, 12]\n",
      "[42, 84, 75, 68, 6, 68, 47, 3, 76, 52, 78, 15, 20, 99, 58, 23, 79, 13, 85, 48]\n",
      "[49, 69, 41, 35, 64, 95, 69, 94, 0, 50, 36, 34, 48, 93, 3, 98, 42, 77, 21, 73]\n",
      "[0, 10, 43, 58, 23, 59, 2, 98, 62, 35, 94, 67, 82, 46, 99, 20, 81, 50, 27, 14]\n",
      "[41, 58, 65, 36, 10, 86, 43, 11, 2, 51, 80, 32, 54, 0, 38, 19, 46, 42, 56, 60]\n",
      "[77, 30, 24, 2, 3, 94, 98, 13, 40, 72, 19, 95, 72, 26, 66, 52, 67, 61, 14, 96]\n",
      "[4, 67, 11, 86, 77, 75, 56, 16, 24, 29, 21, 25, 80, 60, 61, 83, 33, 32, 70, 85]\n",
      "[31, 13, 71, 56, 24, 79, 41, 18, 40, 54, 79, 11, 38, 93, 1, 95, 44, 88, 24, 67]\n",
      "[82, 3, 76, 35, 86, 61, 69, 87, 43, 32, 11, 84, 10, 54, 37, 28, 2, 27, 83, 89]\n",
      "[23, 53, 51, 46, 20, 53, 29, 67, 35, 39, 9, 73, 41, 23, 3, 46, 90, 50, 3, 31]\n",
      "[9, 10, 27, 45, 71, 39, 61, 85, 97, 44, 34, 34, 88, 33, 5, 36, 0, 75, 34, 69]\n",
      "[53, 80, 62, 8, 61, 1, 81, 35, 91, 40, 36, 48, 25, 67, 35, 30, 29, 33, 18, 17]\n",
      "[93, 84, 2, 69, 12, 44, 66, 91, 85, 39, 39, 75, 22, 30, 17, 70, 71, 18, 92, 43]\n",
      "[83, 49, 41, 93, 46, 21, 73, 89, 96, 91, 73, 28, 81, 58, 0, 86, 63, 16, 36, 94]\n",
      "[24, 63, 67, 51, 8, 56, 91, 93, 87, 32, 19, 72, 71, 87, 13, 58, 81, 55, 64, 75]\n",
      "[92, 36, 25, 32, 42, 14, 86, 28, 20, 82, 68, 22, 99, 83, 7, 72, 61, 13, 5, 0]\n",
      "[8, 79, 79, 53, 11, 4, 39, 92, 45, 26, 74, 52, 49, 91, 51, 99, 18, 34, 51, 30]\n",
      "[53, 58, 43, 55, 18, 45, 87, 65, 70, 53, 48, 94, 59, 80, 26, 35, 58, 49, 73, 44]\n",
      "[13, 70, 38, 39, 8, 13, 7, 80, 22, 79, 89, 8, 99, 6, 81, 71, 84, 89, 66, 60]\n",
      "[16, 56, 23, 24, 4, 49, 87, 30, 54, 25, 20, 97, 57, 23, 27, 29, 33, 53, 51, 86]\n",
      "[7, 9, 54, 0, 83, 36, 81, 20, 3, 42, 65, 20, 36, 68, 80, 47, 10, 94, 91, 43]\n",
      "[63, 31, 20, 70, 9, 60, 91, 35, 83, 76, 18, 74, 98, 97, 43, 3, 12, 58, 1, 0]\n",
      "[39, 24, 58, 36, 99, 69, 6, 3, 98, 40, 60, 33, 28, 68, 26, 96, 51, 73, 53, 69]\n",
      "[33, 7, 94, 72, 84, 7, 67, 85, 91, 67, 84, 71, 83, 95, 0, 5, 91, 30, 73, 83]\n",
      "[7, 21, 92, 8, 43, 46, 0, 51, 38, 89, 74, 98, 87, 96, 83, 26, 78, 32, 70, 97]\n",
      "[44, 59, 57, 50, 45, 4, 57, 93, 91, 17, 35, 66, 20, 45, 57, 79, 36, 62, 4, 77]\n",
      "[30, 87, 98, 35, 73, 90, 55, 26, 22, 76, 79, 98, 90, 51, 46, 80, 61, 60, 47, 0]\n",
      "[10, 75, 13, 71, 94, 6, 45, 30, 15, 41, 38, 53, 43, 82, 7, 92, 65, 41, 66, 92]\n",
      "[78, 91, 31, 93, 50, 46, 93, 33, 12, 96, 80, 66, 72, 10, 90, 27, 56, 65, 64, 69]\n",
      "[88, 34, 79, 3, 60, 37, 43, 83, 88, 70, 20, 6, 28, 6, 66, 92, 92, 69, 73, 54]\n",
      "[77, 21, 31, 81, 35, 8, 25, 21, 45, 86, 16, 25, 37, 1, 5, 70, 12, 90, 74, 54]\n",
      "[78, 62, 72, 71, 45, 5, 47, 59, 42, 67, 10, 57, 91, 89, 3, 78, 82, 69, 58, 4]\n",
      "[17, 69, 63, 94, 24, 3, 69, 40, 36, 58, 49, 55, 24, 33, 18, 97, 78, 7, 53, 46]\n",
      "[33, 81, 29, 12, 46, 32, 34, 87, 25, 46, 52, 64, 76, 73, 18, 4, 7, 3, 48, 76]\n",
      "[37, 48, 82, 51, 49, 71, 90, 49, 29, 3, 74, 84, 65, 20, 80, 42, 28, 26, 87, 52]\n",
      "[48, 66, 9, 2, 89, 90, 68, 10, 12, 97, 37, 39, 32, 33, 26, 99, 89, 50, 88, 82]\n",
      "[20, 94, 28, 72, 18, 25, 24, 39, 28, 24, 18, 67, 44, 83, 45, 54, 0, 10, 67, 6]\n",
      "[91, 99, 57, 70, 19, 34, 50, 20, 43, 0, 66, 97, 12, 15, 33, 23, 12, 5, 38, 1]\n",
      "[10, 6, 6, 38, 75, 85, 50, 51, 2, 76, 29, 9, 72, 5, 53, 65, 43, 79, 62, 76]\n",
      "[47, 76, 21, 18, 89, 13, 94, 92, 85, 6, 48, 40, 26, 30, 5, 15, 63, 37, 59, 95]\n",
      "[96, 80, 32, 62, 10, 12, 93, 64, 29, 90, 22, 19, 5, 36, 83, 5, 92, 76, 26, 83]\n",
      "[12, 7, 52, 80, 29, 0, 87, 79, 74, 3, 61, 67, 16, 73, 84, 56, 62, 56, 48, 17]\n",
      "[57, 9, 62, 79, 78, 33, 4, 16, 71, 62, 23, 91, 7, 22, 98, 30, 80, 27, 47, 11]\n",
      "[87, 78, 30, 90, 34, 54, 81, 35, 71, 59, 37, 68, 53, 13, 19, 8, 96, 81, 69, 1]\n",
      "[29, 5, 80, 40, 22, 30, 19, 4, 20, 74, 67, 86, 60, 93, 41, 40, 60, 81, 51, 40]\n",
      "[59, 94, 29, 97, 94, 37, 88, 16, 99, 39, 29, 65, 23, 72, 0, 87, 37, 63, 26, 89]\n",
      "[89, 6, 88, 79, 41, 17, 80, 43, 69, 19, 22, 11, 11, 33, 7, 26, 48, 71, 54, 96]\n",
      "[82, 87, 21, 2, 8, 10, 5, 38, 38, 65, 59, 36, 5, 5, 38, 35, 88, 49, 79, 84]\n",
      "[9, 4, 49, 24, 94, 2, 83, 3, 77, 11, 13, 81, 26, 70, 47, 98, 21, 20, 42, 57]\n",
      "[17, 89, 85, 55, 68, 98, 11, 98, 97, 19, 11, 97, 25, 97, 95, 45, 6, 89, 88, 38]\n",
      "[51, 16, 23, 90, 3, 90, 46, 29, 2, 5, 71, 15, 78, 35, 52, 7, 51, 51, 29, 55]\n",
      "[11, 67, 77, 55, 88, 68, 86, 57, 93, 11, 78, 82, 89, 3, 37, 7, 29, 78, 11, 73]\n",
      "[11, 16, 60, 63, 59, 1, 18, 53, 28, 64, 85, 88, 73, 8, 82, 11, 92, 51, 81, 55]\n",
      "[15, 3, 88, 85, 28, 58, 85, 78, 65, 76, 11, 25, 11, 90, 34, 1, 16, 1, 16, 33]\n",
      "[33, 44, 40, 72, 77, 83, 32, 23, 68, 31, 22, 64, 31, 79, 83, 15, 51, 12, 45, 10]\n",
      "[80, 70, 21, 94, 67, 80, 64, 1, 50, 96, 82, 82, 57, 22, 15, 15, 28, 71, 27, 88]\n",
      "[57, 58, 88, 76, 13, 18, 78, 78, 20, 71, 55, 44, 91, 44, 15, 87, 75, 77, 29, 95]\n",
      "[82, 4, 28, 65, 49, 49, 87, 57, 80, 41, 90, 66, 47, 17, 20, 38, 64, 6, 22, 79]\n",
      "[74, 34, 40, 38, 21, 34, 32, 42, 44, 99, 41, 27, 48, 10, 68, 17, 3, 94, 87, 29]\n",
      "[30, 75, 66, 93, 60, 7, 51, 73, 87, 64, 17, 40, 21, 94, 26, 15, 17, 10, 17, 3]\n",
      "[73, 29, 67, 71, 80, 98, 4, 61, 90, 6, 32, 81, 37, 27, 51, 78, 59, 86, 95, 8]\n",
      "[56, 29, 28, 95, 34, 58, 81, 92, 16, 72, 59, 7, 12, 32, 84, 75, 93, 40, 0, 84]\n",
      "[92, 77, 37, 47, 61, 50, 68, 76, 57, 4, 36, 80, 82, 37, 94, 35, 48, 0, 49, 57]\n",
      "[9, 50, 97, 48, 12, 70, 36, 99, 36, 30, 19, 38, 44, 35, 14, 29, 51, 60, 81, 67]\n",
      "[29, 27, 3, 33, 51, 27, 56, 21, 39, 74, 29, 29, 61, 58, 24, 16, 64, 98, 13, 1]\n",
      "[2, 66, 19, 76, 30, 39, 85, 77, 49, 26, 12, 64, 1, 36, 10, 32, 28, 58, 66, 92]\n",
      "[65, 77, 83, 47, 81, 36, 71, 53, 70, 9, 15, 18, 29, 53, 60, 42, 82, 2, 29, 17]\n",
      "[35, 19, 16, 23, 12, 99, 56, 66, 20, 3, 81, 44, 38, 42, 74, 37, 40, 27, 4, 51]\n",
      "[22, 37, 35, 30, 7, 88, 88, 15, 10, 19, 77, 56, 18, 71, 60, 24, 32, 39, 16, 52]\n",
      "[90, 80, 46, 96, 94, 84, 23, 15, 44, 83, 55, 98, 27, 45, 98, 81, 87, 27, 77, 48]\n",
      "[87, 94, 5, 97, 98, 28, 65, 68, 85, 72, 33, 99, 48, 99, 89, 69, 65, 99, 71, 1]\n",
      "[1, 71, 25, 77, 50, 27, 96, 43, 19, 98, 45, 80, 43, 67, 8, 83, 46, 64, 20, 96]\n",
      "[98, 5, 85, 24, 2, 71, 75, 28, 95, 65, 80, 82, 14, 21, 69, 33, 2, 27, 19, 15]\n",
      "[71, 29, 35, 97, 48, 49, 80, 56, 63, 88, 58, 5, 51, 61, 83, 17, 45, 96, 62, 22]\n",
      "[97, 9, 5, 76, 61, 42, 16, 59, 17, 68, 60, 25, 14, 61, 53, 81, 29, 70, 28, 74]\n",
      "[5, 84, 55, 50, 86, 53, 10, 43, 59, 30, 59, 14, 48, 56, 65, 7, 69, 15, 52, 32]\n",
      "[87, 78, 34, 29, 51, 89, 53, 4, 64, 26, 84, 5, 88, 17, 68, 56, 32, 81, 72, 73]\n",
      "[31, 94, 73, 48, 99, 32, 14, 61, 87, 32, 56, 28, 43, 97, 50, 46, 72, 37, 2, 17]\n",
      "[15, 67, 85, 93, 22, 82, 7, 55, 49, 26, 4, 89, 26, 60, 83, 78, 18, 96, 91, 36]\n",
      "[20, 3, 18, 77, 51, 49, 31, 97, 18, 12, 91, 98, 71, 94, 45, 80, 65, 88, 16, 45]\n",
      "[91, 37, 50, 24, 48, 76, 4, 51, 46, 40, 14, 10, 27, 78, 13, 4, 86, 15, 29, 78]\n",
      "[42, 25, 75, 95, 91, 22, 43, 84, 55, 2, 25, 0, 95, 56, 70, 82, 86, 62, 46, 89]\n",
      "[77, 12, 62, 37, 83, 31, 28, 59, 83, 40, 89, 29, 28, 52, 42, 10, 84, 17, 0, 39]\n",
      "[38, 98, 65, 48, 86, 45, 49, 22, 92, 65, 85, 66, 32, 50, 70, 35, 23, 82, 89, 79]\n",
      "[27, 85, 1, 9, 81, 11, 64, 67, 61, 54, 36, 84, 19, 69, 84, 62, 68, 41, 80, 16]\n",
      "[57, 5, 96, 22, 3, 8, 62, 92, 41, 74, 92, 95, 11, 34, 91, 49, 71, 39, 58, 5]\n",
      "[73, 88, 12, 97, 59, 78, 15, 4, 22, 52, 66, 71, 72, 5, 39, 79, 79, 41, 89, 22]\n",
      "[89, 89, 19, 62, 29, 9, 11, 99, 26, 82, 72, 1, 99, 46, 55, 10, 74, 24, 95, 43]\n",
      "[91, 13, 78, 55, 5, 23, 42, 49, 75, 56, 43, 24, 81, 21, 94, 18, 63, 89, 29, 37]\n",
      "[49, 40, 95, 11, 56, 63, 14, 32, 65, 65, 36, 25, 76, 72, 50, 12, 24, 19, 67, 10]\n",
      "[7, 52, 92, 14, 72, 46, 99, 35, 81, 23, 61, 53, 12, 45, 7, 47, 39, 94, 19, 50]\n",
      "[65, 43, 82, 78, 89, 56, 72, 50, 34, 90, 11, 11, 36, 49, 76, 81, 95, 74, 48, 74]\n",
      "[11, 93, 34, 74, 76, 39, 10, 2, 75, 46, 51, 41, 91, 3, 16, 63, 64, 13, 38, 4]\n",
      "[3, 19, 81, 16, 71, 24, 11, 22, 60, 91, 2, 8, 72, 89, 38, 52, 97, 88, 63, 21]\n",
      "[4, 31, 75, 37, 7, 22, 42, 59, 95, 54, 73, 51, 82, 23, 83, 25, 57, 69, 89, 45]\n",
      "[88, 51, 59, 44, 26, 43, 32, 30, 14, 71, 96, 61, 1, 47, 43, 90, 15, 68, 74, 85]\n",
      "[39, 94, 86, 0, 81, 58, 12, 91, 43, 54, 47, 22, 31, 34, 98, 42, 68, 62, 36, 83]\n",
      "[44, 81, 70, 6, 48, 9, 28, 77, 56, 9, 85, 66, 9, 36, 28, 64, 74, 13, 2, 37]\n",
      "[71, 87, 94, 81, 3, 98, 80, 82, 50, 61, 82, 28, 35, 53, 26, 42, 46, 69, 28, 43]\n",
      "[83, 62, 74, 74, 9, 91, 99, 75, 96, 38, 31, 22, 91, 57, 21, 97, 61, 41, 99, 41]\n",
      "[23, 52, 23, 72, 41, 60, 47, 15, 36, 65, 94, 42, 0, 83, 6, 93, 67, 31, 29, 16]\n",
      "[67, 26, 6, 11, 81, 55, 43, 67, 20, 91, 92, 14, 14, 80, 99, 63, 43, 27, 87, 20]\n",
      "[23, 34, 32, 65, 22, 21, 57, 68, 45, 39, 24, 86, 17, 52, 90, 8, 5, 97, 86, 82]\n",
      "[10, 62, 29, 11, 30, 71, 58, 94, 42, 85, 71, 25, 54, 83, 25, 45, 3, 84, 83, 37]\n",
      "[33, 60, 89, 7, 60, 37, 84, 98, 16, 45, 39, 33, 97, 65, 73, 87, 68, 24, 6, 97]\n",
      "[60, 88, 61, 59, 74, 29, 28, 24, 3, 82, 21, 6, 84, 21, 27, 26, 89, 64, 3, 53]\n",
      "[37, 7, 80, 75, 11, 2, 54, 5, 17, 78, 5, 78, 81, 30, 98, 3, 0, 93, 44, 44]\n",
      "[61, 0, 17, 29, 91, 34, 59, 21, 63, 94, 17, 38, 79, 1, 15, 86, 17, 53, 22, 77]\n",
      "[47, 66, 11, 9, 40, 54, 51, 47, 4, 10, 6, 44, 72, 8, 72, 18, 2, 69, 93, 29]\n",
      "[27, 17, 58, 11, 49, 72, 88, 3, 11, 57, 50, 15, 57, 3, 60, 39, 85, 29, 53, 67]\n",
      "[56, 75, 79, 45, 90, 79, 97, 11, 5, 30, 58, 68, 59, 32, 37, 43, 60, 45, 29, 27]\n",
      "[27, 29, 72, 75, 97, 78, 38, 11, 74, 89, 32, 50, 40, 70, 30, 22, 75, 35, 84, 68]\n",
      "[63, 4, 49, 29, 63, 61, 91, 83, 90, 26, 73, 50, 95, 94, 17, 71, 56, 35, 73, 92]\n",
      "[47, 48, 71, 67, 71, 62, 72, 37, 5, 97, 55, 92, 46, 38, 49, 8, 65, 66, 62, 16]\n",
      "[61, 66, 11, 31, 10, 20, 14, 52, 71, 29, 5, 14, 79, 51, 32, 23, 91, 6, 73, 65]\n",
      "[75, 87, 70, 40, 60, 36, 12, 35, 62, 69, 62, 58, 76, 18, 0, 1, 84, 77, 90, 21]\n",
      "[78, 13, 67, 17, 5, 26, 63, 27, 41, 13, 45, 48, 56, 58, 17, 86, 95, 89, 92, 77]\n",
      "[7, 26, 17, 68, 43, 47, 94, 92, 72, 58, 27, 6, 7, 53, 26, 75, 37, 93, 49, 20]\n",
      "[93, 56, 61, 55, 92, 23, 57, 9, 0, 19, 71, 50, 38, 67, 30, 37, 56, 5, 59, 80]\n",
      "[90, 61, 31, 70, 89, 75, 17, 31, 31, 84, 90, 39, 50, 74, 38, 68, 39, 79, 13, 35]\n",
      "[11, 75, 54, 36, 82, 75, 51, 34, 58, 80, 28, 9, 8, 17, 92, 25, 94, 59, 94, 59]\n",
      "[58, 18, 12, 1, 27, 10, 67, 61, 16, 27, 6, 0, 7, 25, 67, 59, 36, 44, 85, 72]\n",
      "[38, 42, 97, 36, 68, 91, 13, 13, 41, 72, 6, 94, 12, 98, 3, 16, 5, 40, 55, 29]\n",
      "[53, 22, 23, 36, 59, 34, 70, 6, 88, 76, 17, 95, 48, 37, 0, 74, 4, 95, 60, 10]\n",
      "[29, 97, 13, 19, 41, 76, 44, 51, 16, 37, 14, 36, 4, 47, 0, 49, 37, 75, 44, 69]\n",
      "[16, 16, 10, 5, 23, 47, 67, 38, 18, 94, 80, 31, 42, 47, 21, 97, 55, 74, 31, 83]\n",
      "[66, 19, 31, 19, 39, 39, 61, 97, 44, 54, 94, 62, 76, 16, 80, 6, 68, 45, 84, 30]\n",
      "[76, 53, 33, 90, 18, 6, 2, 26, 25, 13, 63, 91, 62, 57, 37, 45, 21, 69, 49, 25]\n",
      "[12, 52, 70, 47, 73, 10, 72, 90, 16, 95, 94, 38, 48, 60, 6, 70, 1, 63, 65, 21]\n",
      "[46, 0, 86, 36, 26, 20, 84, 34, 61, 30, 27, 73, 72, 52, 84, 23, 62, 48, 59, 43]\n",
      "[42, 13, 9, 27, 90, 34, 70, 41, 37, 6, 58, 85, 3, 75, 11, 29, 78, 83, 26, 80]\n",
      "[35, 52, 17, 80, 10, 60, 73, 99, 25, 26, 51, 79, 27, 4, 85, 53, 23, 22, 92, 43]\n",
      "[6, 13, 77, 17, 40, 94, 68, 18, 2, 27, 8, 79, 51, 87, 47, 63, 30, 13, 92, 46]\n",
      "[14, 46, 45, 97, 4, 10, 63, 18, 72, 58, 73, 13, 12, 29, 78, 77, 9, 46, 60, 76]\n",
      "[29, 75, 24, 59, 72, 15, 54, 32, 80, 11, 15, 25, 21, 22, 81, 92, 91, 72, 91, 92]\n",
      "[99, 30, 41, 9, 52, 43, 81, 50, 16, 64, 26, 7, 54, 82, 58, 75, 57, 58, 76, 13]\n",
      "[72, 18, 17, 42, 44, 98, 75, 87, 70, 78, 46, 54, 50, 43, 65, 78, 6, 47, 44, 9]\n",
      "[3, 9, 34, 94, 1, 38, 78, 80, 94, 50, 13, 86, 46, 99, 87, 37, 93, 90, 82, 86]\n",
      "[6, 74, 43, 1, 73, 90, 48, 79, 17, 19, 19, 65, 27, 35, 9, 13, 53, 70, 88, 10]\n",
      "[43, 5, 40, 15, 14, 85, 0, 35, 97, 14, 6, 88, 3, 68, 95, 27, 67, 34, 41, 13]\n",
      "[17, 40, 74, 38, 42, 67, 27, 60, 15, 34, 50, 44, 84, 52, 25, 75, 44, 81, 5, 83]\n",
      "[71, 68, 95, 93, 91, 32, 41, 82, 29, 13, 9, 54, 8, 25, 33, 17, 47, 16, 49, 62]\n",
      "[71, 94, 80, 86, 37, 9, 46, 12, 88, 22, 56, 78, 45, 33, 62, 4, 69, 76, 41, 12]\n",
      "[0, 69, 22, 97, 49, 65, 10, 70, 16, 71, 27, 38, 84, 41, 82, 70, 38, 34, 74, 40]\n",
      "[40, 27, 94, 36, 98, 59, 89, 27, 56, 58, 31, 48, 3, 64, 37, 39, 12, 84, 75, 76]\n",
      "[91, 47, 57, 21, 12, 17, 39, 31, 29, 55, 65, 37, 0, 23, 13, 8, 84, 53, 82, 80]\n",
      "[13, 8, 6, 27, 37, 35, 40, 26, 94, 76, 57, 45, 80, 58, 23, 72, 80, 18, 74, 15]\n",
      "[88, 64, 3, 90, 20, 47, 62, 97, 24, 82, 40, 9, 72, 71, 92, 41, 19, 86, 67, 78]\n",
      "[66, 87, 24, 84, 35, 46, 32, 34, 42, 92, 37, 82, 55, 35, 99, 65, 93, 20, 99, 46]\n",
      "[98, 91, 62, 62, 78, 30, 91, 51, 4, 68, 6, 41, 3, 39, 27, 13, 44, 0, 74, 93]\n",
      "[78, 0, 0, 96, 11, 29, 5, 69, 57, 30, 18, 16, 81, 75, 9, 9, 90, 76, 64, 28]\n",
      "[77, 87, 58, 48, 27, 25, 84, 76, 24, 5, 34, 76, 59, 43, 79, 59, 21, 12, 98, 5]\n",
      "[20, 31, 98, 23, 19, 85, 47, 6, 68, 73, 24, 47, 32, 74, 90, 91, 16, 98, 22, 28]\n",
      "[28, 78, 89, 5, 66, 35, 75, 51, 77, 99, 56, 95, 94, 5, 29, 91, 53, 65, 61, 26]\n",
      "[28, 39, 97, 47, 32, 4, 54, 0, 11, 51, 99, 68, 26, 15, 92, 16, 70, 95, 2, 17]\n",
      "[65, 32, 97, 38, 68, 94, 4, 79, 21, 10, 16, 2, 46, 61, 46, 32, 23, 61, 1, 36]\n",
      "[89, 8, 47, 91, 0, 35, 26, 62, 52, 22, 31, 1, 93, 3, 3, 98, 36, 42, 20, 5]\n",
      "[88, 83, 54, 3, 83, 23, 48, 94, 30, 89, 7, 42, 12, 4, 27, 76, 74, 43, 53, 10]\n",
      "[43, 6, 71, 0, 51, 34, 96, 23, 64, 71, 30, 18, 32, 2, 38, 12, 64, 72, 3, 13]\n",
      "[90, 3, 70, 6, 20, 58, 2, 85, 47, 52, 58, 82, 80, 57, 43, 33, 69, 93, 79, 89]\n",
      "[24, 60, 64, 61, 77, 12, 70, 49, 3, 32, 49, 99, 13, 75, 17, 68, 87, 47, 74, 38]\n",
      "[48, 36, 93, 25, 35, 71, 64, 64, 8, 67, 6, 7, 51, 77, 82, 17, 3, 8, 47, 43]\n",
      "[61, 3, 44, 75, 49, 50, 10, 43, 79, 91, 62, 99, 82, 62, 35, 85, 28, 59, 97, 89]\n",
      "[74, 1, 21, 25, 10, 41, 13, 51, 66, 82, 84, 7, 40, 56, 85, 37, 46, 83, 90, 55]\n",
      "[6, 0, 8, 85, 37, 67, 46, 41, 92, 63, 57, 39, 65, 51, 61, 69, 58, 91, 95, 40]\n",
      "[73, 53, 7, 99, 47, 69, 41, 28, 85, 11, 3, 18, 35, 46, 17, 27, 54, 73, 19, 71]\n",
      "[71, 43, 44, 46, 34, 33, 74, 69, 92, 46, 32, 83, 39, 30, 95, 47, 1, 32, 63, 45]\n",
      "[55, 64, 85, 22, 27, 5, 35, 35, 67, 28, 91, 9, 43, 3, 11, 51, 86, 4, 29, 60]\n",
      "[44, 2, 94, 69, 47, 76, 17, 79, 56, 41, 24, 85, 3, 60, 46, 31, 70, 51, 97, 47]\n",
      "[11, 62, 8, 62, 3, 55, 54, 41, 54, 25, 6, 71, 63, 93, 69, 38, 67, 7, 43, 23]\n",
      "[88, 29, 51, 17, 56, 43, 33, 48, 78, 42, 80, 1, 53, 64, 56, 15, 80, 72, 20, 61]\n",
      "[63, 54, 43, 25, 0, 49, 39, 2, 70, 3, 30, 13, 20, 75, 11, 5, 16, 77, 62, 8]\n",
      "[27, 6, 42, 4, 15, 60, 0, 39, 37, 6, 93, 58, 25, 76, 64, 62, 52, 50, 49, 28]\n",
      "[71, 65, 50, 7, 26, 40, 61, 48, 22, 14, 63, 95, 85, 52, 7, 36, 80, 70, 20, 38]\n",
      "[4, 16, 98, 56, 14, 15, 88, 14, 10, 4, 84, 52, 75, 53, 93, 67, 44, 90, 91, 2]\n",
      "[60, 66, 23, 28, 53, 18, 59, 65, 68, 36, 81, 24, 89, 76, 34, 85, 56, 63, 73, 36]\n",
      "[41, 6, 17, 31, 6, 50, 16, 30, 28, 75, 32, 89, 38, 29, 2, 83, 76, 18, 64, 41]\n",
      "[22, 17, 42, 4, 4, 18, 69, 14, 10, 50, 93, 83, 34, 3, 8, 90, 82, 68, 7, 93]\n",
      "[35, 79, 46, 45, 67, 58, 3, 70, 66, 24, 55, 59, 35, 3, 71, 27, 66, 71, 10, 63]\n",
      "[5, 40, 86, 52, 43, 65, 6, 28, 5, 74, 7, 29, 82, 47, 60, 63, 66, 41, 29, 96]\n",
      "[49, 60, 52, 25, 36, 19, 96, 91, 26, 56, 56, 28, 45, 87, 82, 5, 65, 85, 34, 1]\n",
      "[93, 98, 14, 30, 9, 54, 27, 7, 76, 93, 36, 38, 92, 85, 87, 37, 20, 13, 40, 50]\n",
      "[54, 65, 72, 58, 73, 49, 17, 49, 89, 87, 57, 74, 90, 13, 31, 21, 97, 1, 96, 43]\n",
      "[55, 70, 34, 94, 46, 90, 17, 12, 52, 47, 39, 48, 55, 25, 64, 60, 30, 92, 87, 79]\n",
      "[38, 86, 48, 7, 37, 66, 77, 20, 46, 93, 32, 52, 55, 19, 56, 22, 86, 60, 34, 61]\n",
      "[54, 38, 85, 92, 48, 34, 61, 65, 54, 17, 52, 34, 43, 13, 17, 31, 21, 98, 1, 69]\n",
      "[47, 38, 63, 31, 92, 68, 37, 7, 67, 54, 21, 21, 57, 90, 66, 92, 47, 32, 33, 99]\n",
      "[58, 32, 17, 9, 99, 44, 86, 5, 86, 9, 65, 61, 5, 68, 7, 54, 19, 51, 38, 13]\n",
      "[11, 87, 54, 53, 75, 40, 95, 3, 61, 2, 71, 2, 25, 46, 5, 16, 8, 81, 92, 78]\n",
      "[56, 6, 77, 56, 92, 3, 59, 4, 0, 75, 38, 6, 20, 70, 16, 64, 67, 69, 61, 39]\n",
      "[59, 80, 89, 94, 27, 75, 64, 33, 25, 52, 14, 48, 34, 40, 50, 62, 43, 38, 19, 42]\n",
      "[98, 21, 20, 90, 35, 27, 3, 89, 7, 4, 4, 53, 9, 68, 33, 49, 74, 23, 57, 96]\n",
      "[77, 21, 92, 23, 5, 61, 2, 0, 9, 71, 29, 21, 80, 78, 83, 37, 90, 76, 79, 83]\n",
      "[18, 66, 16, 75, 99, 9, 73, 30, 22, 20, 83, 68, 79, 33, 64, 15, 77, 9, 49, 10]\n",
      "[34, 39, 48, 44, 1, 72, 0, 11, 26, 94, 42, 19, 85, 1, 60, 82, 92, 62, 11, 49]\n",
      "[63, 9, 24, 68, 26, 52, 54, 85, 78, 29, 1, 78, 0, 15, 33, 32, 69, 30, 47, 58]\n",
      "[73, 7, 30, 85, 30, 41, 8, 65, 85, 8, 49, 64, 91, 50, 48, 89, 29, 71, 26, 95]\n"
     ]
    }
   ],
   "source": [
    "data = []\n",
    "np.random.seed(0)\n",
    "\n",
    "for cnt in range(200):\n",
    "    data.append(list(np.random.randint(100, size=20)))\n",
    "    \n",
    "for row in data:\n",
    "    print(row)"
   ]
  },
  {
   "cell_type": "code",
   "execution_count": 9,
   "metadata": {},
   "outputs": [],
   "source": [
    "#%%timeit\n",
    "\n",
    "sum_each = []\n",
    "first_round = True\n",
    "\n",
    "for row in data:\n",
    "    \n",
    "    if first_round:\n",
    "        for col in range(20):\n",
    "            sum_each.append(row[col])\n",
    "            \n",
    "        first_round = False\n",
    "        \n",
    "    else:\n",
    "        for col in range(20):\n",
    "            sum_each[col] += row[col]\n",
    "\n",
    "total_observ = len(data)\n",
    "mean_each = []\n",
    "for col in range(20):\n",
    "    mean_each.append(sum_each[col]/total_observ)\n"
   ]
  },
  {
   "cell_type": "code",
   "execution_count": 10,
   "metadata": {},
   "outputs": [
    {
     "name": "stdout",
     "output_type": "stream",
     "text": [
      "1 th mean: 47.83\n",
      "2 th mean: 46.48\n",
      "3 th mean: 49.675\n",
      "4 th mean: 49.325\n",
      "5 th mean: 46.52\n",
      "6 th mean: 45.265\n",
      "7 th mean: 50.375\n",
      "8 th mean: 48.04\n",
      "9 th mean: 48.195\n",
      "10 th mean: 49.79\n",
      "11 th mean: 46.185\n",
      "12 th mean: 49.46\n",
      "13 th mean: 47.865\n",
      "14 th mean: 48.88\n",
      "15 th mean: 46.705\n",
      "16 th mean: 47.33\n",
      "17 th mean: 52.04\n",
      "18 th mean: 53.13\n",
      "19 th mean: 51.905\n",
      "20 th mean: 49.25\n"
     ]
    }
   ],
   "source": [
    "mean_each\n",
    "for i, m in enumerate(mean_each):\n",
    "    print(f'{i+1} th mean: {m}')"
   ]
  },
  {
   "cell_type": "code",
   "execution_count": 11,
   "metadata": {},
   "outputs": [],
   "source": [
    "np.random.seed(0)\n",
    "data = np.random.randint(100, size=(200,20))"
   ]
  },
  {
   "cell_type": "code",
   "execution_count": 12,
   "metadata": {},
   "outputs": [
    {
     "name": "stdout",
     "output_type": "stream",
     "text": [
      "6.63 µs ± 146 ns per loop (mean ± std. dev. of 7 runs, 100000 loops each)\n"
     ]
    }
   ],
   "source": [
    "%%timeit\n",
    "\n",
    "mean_each = np.add.reduce(data)/200"
   ]
  },
  {
   "cell_type": "code",
   "execution_count": 13,
   "metadata": {},
   "outputs": [
    {
     "name": "stdout",
     "output_type": "stream",
     "text": [
      "1 th mean: 47.83\n",
      "2 th mean: 46.48\n",
      "3 th mean: 49.675\n",
      "4 th mean: 49.325\n",
      "5 th mean: 46.52\n",
      "6 th mean: 45.265\n",
      "7 th mean: 50.375\n",
      "8 th mean: 48.04\n",
      "9 th mean: 48.195\n",
      "10 th mean: 49.79\n",
      "11 th mean: 46.185\n",
      "12 th mean: 49.46\n",
      "13 th mean: 47.865\n",
      "14 th mean: 48.88\n",
      "15 th mean: 46.705\n",
      "16 th mean: 47.33\n",
      "17 th mean: 52.04\n",
      "18 th mean: 53.13\n",
      "19 th mean: 51.905\n",
      "20 th mean: 49.25\n"
     ]
    }
   ],
   "source": [
    "for i, avg in enumerate(mean_each):\n",
    "    print(f'{i+1} th mean: {avg}')"
   ]
  },
  {
   "cell_type": "markdown",
   "metadata": {},
   "source": [
    "# NumPy 배워보기"
   ]
  },
  {
   "cell_type": "markdown",
   "metadata": {},
   "source": [
    "## 1. list != array\n",
    "__리스트는 편하지만 비효율적이다, 더 나은 데이터 타입을 달라!__"
   ]
  },
  {
   "cell_type": "markdown",
   "metadata": {},
   "source": [
    "<img src=\"array_vs_list.png\"/>"
   ]
  },
  {
   "cell_type": "code",
   "execution_count": null,
   "metadata": {},
   "outputs": [],
   "source": [
    "L = list([int(1), 'a', True, None, 3.45, 1])\n",
    "\n",
    "for item in L:\n",
    "    print(hex(id(item)), '-', item)"
   ]
  },
  {
   "cell_type": "code",
   "execution_count": null,
   "metadata": {},
   "outputs": [],
   "source": [
    "import array\n",
    "A = array.array('i', [1, 2, 3, 4, 5])\n",
    "print(A)\n",
    "\n",
    "for item in A:\n",
    "    print(hex(id(item)))"
   ]
  },
  {
   "cell_type": "markdown",
   "metadata": {},
   "source": [
    "## 2. 기본적인 NumPy 배열 생성등"
   ]
  },
  {
   "cell_type": "code",
   "execution_count": null,
   "metadata": {},
   "outputs": [],
   "source": [
    "np.random.seed(0)\n",
    "x = np.random.randint(10, size=10)\n",
    "x"
   ]
  },
  {
   "cell_type": "code",
   "execution_count": null,
   "metadata": {},
   "outputs": [],
   "source": [
    "x[0], x[-1], x[::2]"
   ]
  },
  {
   "cell_type": "code",
   "execution_count": null,
   "metadata": {},
   "outputs": [],
   "source": [
    "y = np.random.randint(10, size=(4,3))\n",
    "y"
   ]
  },
  {
   "cell_type": "code",
   "execution_count": null,
   "metadata": {},
   "outputs": [],
   "source": [
    "y[0][2], y[3][-2], y[3, 2], y[:2, ::2]"
   ]
  },
  {
   "cell_type": "markdown",
   "metadata": {},
   "source": [
    "### 그런데, subarray의 경우, copy가 아니라 view를 돌려주는 것!"
   ]
  },
  {
   "cell_type": "code",
   "execution_count": null,
   "metadata": {},
   "outputs": [],
   "source": [
    "y_sub = y[:2, ::2]\n",
    "y_sub[0, 1] = 20000\n",
    "print(y_sub)\n",
    "print(y)"
   ]
  },
  {
   "cell_type": "code",
   "execution_count": null,
   "metadata": {},
   "outputs": [],
   "source": [
    "y_reshp = y.reshape((1,y.size))\n",
    "y_reshp"
   ]
  },
  {
   "cell_type": "markdown",
   "metadata": {},
   "source": [
    "## 3. UFunc!"
   ]
  },
  {
   "cell_type": "code",
   "execution_count": null,
   "metadata": {},
   "outputs": [],
   "source": [
    "import numpy as np\n",
    "\n",
    "def compute_reciprocals(values):\n",
    "    \n",
    "    output = np.empty(len(values))\n",
    "    for i, val in enumerate(values):\n",
    "        output[i] = 1.0 / val\n",
    "        \n",
    "    return output\n",
    "\n",
    "np.random.seed(0)\n",
    "values = np.random.randint(1, 10, size=5)\n",
    "compute_reciprocals(values)"
   ]
  },
  {
   "cell_type": "code",
   "execution_count": null,
   "metadata": {},
   "outputs": [],
   "source": [
    "big_array = np.random.randint(1, 100, size=1000000)"
   ]
  },
  {
   "cell_type": "code",
   "execution_count": null,
   "metadata": {},
   "outputs": [],
   "source": [
    "%timeit compute_reciprocals(big_array)"
   ]
  },
  {
   "cell_type": "code",
   "execution_count": null,
   "metadata": {},
   "outputs": [],
   "source": [
    "%timeit (1.0 / big_array)"
   ]
  },
  {
   "cell_type": "markdown",
   "metadata": {},
   "source": [
    "## 4. Aggregation"
   ]
  },
  {
   "cell_type": "markdown",
   "metadata": {},
   "source": [
    "%%timeit\n",
    "\n",
    "mean_each = np.mean(data, axis=0)"
   ]
  },
  {
   "cell_type": "markdown",
   "metadata": {},
   "source": [
    "for i, avg in enumerate(mean_each):\n",
    "    print(f'{i+1} th mean: {avg}')"
   ]
  },
  {
   "cell_type": "code",
   "execution_count": 6,
   "metadata": {},
   "outputs": [
    {
     "data": {
      "text/plain": [
       "array([0.10325322, 0.51909894, 0.09680322, 0.88976214, 0.06184478,\n",
       "       0.44969443, 0.28469407, 0.15486942, 0.78383669, 0.7149324 ,\n",
       "       0.14594789, 0.63276564, 0.79255517, 0.77333222, 0.0922796 ,\n",
       "       0.68551272, 0.71602392, 0.86216627, 0.50804434, 0.461094  ,\n",
       "       0.96511632, 0.79651226, 0.55873099, 0.33061707, 0.845238  ,\n",
       "       0.45543639, 0.09268519, 0.45490427, 0.8719684 , 0.44828215,\n",
       "       0.01434915, 0.61148532, 0.99583   , 0.81724858, 0.61723795,\n",
       "       0.91439889, 0.81358168, 0.49863935, 0.59122029, 0.73129281,\n",
       "       0.84642616, 0.0581764 , 0.77480386, 0.44750344, 0.66079856,\n",
       "       0.76463301, 0.53950193, 0.15851485, 0.40952683, 0.07687299,\n",
       "       0.68930069, 0.95370618, 0.79525281, 0.38978642, 0.5842915 ,\n",
       "       0.30420068, 0.5410456 , 0.30072691, 0.73832476, 0.25934151,\n",
       "       0.96402039, 0.66194873, 0.06877785, 0.01077776, 0.99704634,\n",
       "       0.22050558, 0.31256275, 0.20841401, 0.92810177, 0.65201286,\n",
       "       0.50438632, 0.55765081, 0.31787285, 0.614175  , 0.41960036,\n",
       "       0.19922815, 0.6566051 , 0.37384057, 0.78506638, 0.41539496,\n",
       "       0.50827138, 0.78746648, 0.44787809, 0.96622114, 0.79302867,\n",
       "       0.82643041, 0.95392047, 0.38885063, 0.58008026, 0.69359174,\n",
       "       0.67345848, 0.95293679, 0.28834863, 0.29136153, 0.9180044 ,\n",
       "       0.79930564, 0.20335662, 0.57004688, 0.74576373, 0.35303639])"
      ]
     },
     "execution_count": 6,
     "metadata": {},
     "output_type": "execute_result"
    }
   ],
   "source": [
    "L = np.random.random(100)\n",
    "L"
   ]
  },
  {
   "cell_type": "code",
   "execution_count": 7,
   "metadata": {},
   "outputs": [
    {
     "data": {
      "text/plain": [
       "(55.05536812723177, 55.05536812723177)"
      ]
     },
     "execution_count": 7,
     "metadata": {},
     "output_type": "execute_result"
    }
   ],
   "source": [
    "sum(L), np.sum(L)"
   ]
  },
  {
   "cell_type": "code",
   "execution_count": 8,
   "metadata": {},
   "outputs": [
    {
     "name": "stdout",
     "output_type": "stream",
     "text": [
      "89.5 ms ± 1.59 ms per loop (mean ± std. dev. of 7 runs, 10 loops each)\n",
      "390 µs ± 13.7 µs per loop (mean ± std. dev. of 7 runs, 1000 loops each)\n"
     ]
    }
   ],
   "source": [
    "big_array = np.random.rand(1000000)\n",
    "%timeit sum(big_array)\n",
    "%timeit np.sum(big_array)"
   ]
  },
  {
   "cell_type": "code",
   "execution_count": 9,
   "metadata": {
    "scrolled": true
   },
   "outputs": [
    {
     "name": "stdout",
     "output_type": "stream",
     "text": [
      "65.9 ms ± 1.02 ms per loop (mean ± std. dev. of 7 runs, 10 loops each)\n",
      "413 µs ± 6.97 µs per loop (mean ± std. dev. of 7 runs, 1000 loops each)\n"
     ]
    }
   ],
   "source": [
    "%timeit min(big_array)\n",
    "%timeit np.min(big_array)"
   ]
  },
  {
   "cell_type": "code",
   "execution_count": 10,
   "metadata": {},
   "outputs": [
    {
     "data": {
      "text/plain": [
       "array([[0.45725109, 0.77091368, 0.21989855, 0.94436162],\n",
       "       [0.66770296, 0.80260102, 0.8763563 , 0.55746492],\n",
       "       [0.33942389, 0.79644905, 0.80220316, 0.39579005]])"
      ]
     },
     "execution_count": 10,
     "metadata": {},
     "output_type": "execute_result"
    }
   ],
   "source": [
    "M = np.random.random((3, 4))\n",
    "M"
   ]
  },
  {
   "cell_type": "code",
   "execution_count": 11,
   "metadata": {},
   "outputs": [
    {
     "data": {
      "text/plain": [
       "(7.630416275059947,\n",
       " array([0.33942389, 0.77091368, 0.21989855, 0.39579005]),\n",
       " array([0.94436162, 0.8763563 , 0.80220316]))"
      ]
     },
     "execution_count": 11,
     "metadata": {},
     "output_type": "execute_result"
    }
   ],
   "source": [
    "M.sum(), M.min(axis=0), M.max(axis=1)"
   ]
  },
  {
   "cell_type": "markdown",
   "metadata": {},
   "source": [
    "## 5. Broadcasting"
   ]
  },
  {
   "cell_type": "code",
   "execution_count": 12,
   "metadata": {},
   "outputs": [
    {
     "data": {
      "text/plain": [
       "array([5, 6, 7])"
      ]
     },
     "execution_count": 12,
     "metadata": {},
     "output_type": "execute_result"
    }
   ],
   "source": [
    "a = np.array([0, 1, 2])\n",
    "b = np.array([5, 5, 5])\n",
    "a + b"
   ]
  },
  {
   "cell_type": "code",
   "execution_count": 13,
   "metadata": {},
   "outputs": [
    {
     "data": {
      "text/plain": [
       "array([5, 6, 7])"
      ]
     },
     "execution_count": 13,
     "metadata": {},
     "output_type": "execute_result"
    }
   ],
   "source": [
    "a + 5"
   ]
  },
  {
   "cell_type": "markdown",
   "metadata": {},
   "source": [
    "<img src=\"matrix_stretch.png\"/>"
   ]
  },
  {
   "cell_type": "markdown",
   "metadata": {},
   "source": [
    "### Rules of Broadcasting\n",
    "\n",
    "- Rule 1: If the two arrays differ in their number of dimensions, the shape of the one with fewer dimensions is padded with ones on its leading (left) side.\n",
    "- Rule 2: If the shape of the two arrays does not match in any dimension, the array with shape equal to 1 in that dimension is stretched to match the other shape.\n",
    "- Rule 3: If in any dimension the sizes disagree and neither is equal to 1, an error is raised."
   ]
  },
  {
   "cell_type": "code",
   "execution_count": 2,
   "metadata": {},
   "outputs": [
    {
     "data": {
      "text/plain": [
       "array([[1., 2., 3.],\n",
       "       [1., 2., 3.]])"
      ]
     },
     "execution_count": 2,
     "metadata": {},
     "output_type": "execute_result"
    }
   ],
   "source": [
    "# Rule 1\n",
    "\n",
    "import numpy as np\n",
    "\n",
    "M = np.ones((2, 3))   # 2차원\n",
    "a = np.arange(3)      # 1차원\n",
    "\n",
    "M + a"
   ]
  },
  {
   "cell_type": "code",
   "execution_count": 3,
   "metadata": {},
   "outputs": [
    {
     "data": {
      "text/plain": [
       "array([[0, 1, 2],\n",
       "       [1, 2, 3],\n",
       "       [2, 3, 4]])"
      ]
     },
     "execution_count": 3,
     "metadata": {},
     "output_type": "execute_result"
    }
   ],
   "source": [
    "# Rule 2\n",
    "\n",
    "a = np.arange(3).reshape((3, 1))\n",
    "b = np.arange(3)\n",
    "\n",
    "a + b"
   ]
  },
  {
   "cell_type": "code",
   "execution_count": 5,
   "metadata": {
    "scrolled": true
   },
   "outputs": [
    {
     "ename": "ValueError",
     "evalue": "operands could not be broadcast together with shapes (3,2) (3,) ",
     "output_type": "error",
     "traceback": [
      "\u001b[0;31m---------------------------------------------------------------------------\u001b[0m",
      "\u001b[0;31mValueError\u001b[0m                                Traceback (most recent call last)",
      "\u001b[0;32m<ipython-input-5-018f7842b5fe>\u001b[0m in \u001b[0;36m<module>\u001b[0;34m\u001b[0m\n\u001b[1;32m      4\u001b[0m \u001b[0ma\u001b[0m \u001b[0;34m=\u001b[0m \u001b[0mnp\u001b[0m\u001b[0;34m.\u001b[0m\u001b[0marange\u001b[0m\u001b[0;34m(\u001b[0m\u001b[0;36m3\u001b[0m\u001b[0;34m)\u001b[0m\u001b[0;34m\u001b[0m\u001b[0m\n\u001b[1;32m      5\u001b[0m \u001b[0;34m\u001b[0m\u001b[0m\n\u001b[0;32m----> 6\u001b[0;31m \u001b[0mM\u001b[0m \u001b[0;34m+\u001b[0m \u001b[0ma\u001b[0m\u001b[0;34m\u001b[0m\u001b[0m\n\u001b[0m",
      "\u001b[0;31mValueError\u001b[0m: operands could not be broadcast together with shapes (3,2) (3,) "
     ]
    }
   ],
   "source": [
    "# Rule 3\n",
    "\n",
    "M = np.ones((3, 2))\n",
    "a = np.arange(3)\n",
    "\n",
    "M + a"
   ]
  },
  {
   "cell_type": "code",
   "execution_count": 6,
   "metadata": {},
   "outputs": [
    {
     "data": {
      "text/plain": [
       "array([[1., 1.],\n",
       "       [2., 2.],\n",
       "       [3., 3.]])"
      ]
     },
     "execution_count": 6,
     "metadata": {},
     "output_type": "execute_result"
    }
   ],
   "source": [
    "M + a[:, np.newaxis]"
   ]
  },
  {
   "cell_type": "code",
   "execution_count": 10,
   "metadata": {},
   "outputs": [
    {
     "name": "stdout",
     "output_type": "stream",
     "text": [
      "(3,)\n",
      "(3, 1)\n"
     ]
    }
   ],
   "source": [
    "print(a.shape)\n",
    "print(a[:, np.newaxis].shape)"
   ]
  },
  {
   "cell_type": "markdown",
   "metadata": {},
   "source": [
    "> 안되면 되게하라"
   ]
  },
  {
   "cell_type": "markdown",
   "metadata": {},
   "source": [
    "### Broadcasting in Practice"
   ]
  },
  {
   "cell_type": "code",
   "execution_count": 12,
   "metadata": {},
   "outputs": [
    {
     "data": {
      "text/plain": [
       "array([0.46468491, 0.39456854, 0.62657977])"
      ]
     },
     "execution_count": 12,
     "metadata": {},
     "output_type": "execute_result"
    }
   ],
   "source": [
    "X = np.random.random((10, 3))\n",
    "Xmean = X.mean(0)\n",
    "Xmean"
   ]
  },
  {
   "cell_type": "code",
   "execution_count": 15,
   "metadata": {},
   "outputs": [
    {
     "data": {
      "text/plain": [
       "array([-4.44089210e-17,  1.11022302e-17,  2.22044605e-17])"
      ]
     },
     "execution_count": 15,
     "metadata": {},
     "output_type": "execute_result"
    }
   ],
   "source": [
    "X_centered = X - Xmean\n",
    "X_centered.mean(0)"
   ]
  },
  {
   "cell_type": "markdown",
   "metadata": {},
   "source": [
    "---"
   ]
  },
  {
   "cell_type": "code",
   "execution_count": 17,
   "metadata": {},
   "outputs": [],
   "source": [
    "x = np.linspace(0, 5, 50)\n",
    "y = np.linspace(0, 5, 50)[:, np.newaxis]\n",
    "\n",
    "z = np.sin(x) ** 10 + np.cos(10 + y*x) * np.cos(x)"
   ]
  },
  {
   "cell_type": "code",
   "execution_count": 18,
   "metadata": {},
   "outputs": [
    {
     "data": {
      "image/png": "[encoded data removed]",
      "text/plain": [
       "<Figure size 432x288 with 2 Axes>"
      ]
     },
     "metadata": {
      "needs_background": "light"
     },
     "output_type": "display_data"
    }
   ],
   "source": [
    "%matplotlib inline\n",
    "import matplotlib.pyplot as plt\n",
    "\n",
    "plt.imshow(z, origin='lower', extent=[0, 5, 0, 5], cmap='viridis')\n",
    "plt.colorbar();"
   ]
  },
  {
   "cell_type": "markdown",
   "metadata": {},
   "source": [
    "## 6. Comparison, Masks, and Boolean Logic\n",
    "\n",
    "Boolean masks to examine and manipulate vlaues within NumPy arrays"
   ]
  },
  {
   "cell_type": "code",
   "execution_count": 19,
   "metadata": {},
   "outputs": [
    {
     "data": {
      "text/plain": [
       "(365,)"
      ]
     },
     "execution_count": 19,
     "metadata": {},
     "output_type": "execute_result"
    }
   ],
   "source": [
    "import numpy as np\n",
    "import pandas as pd\n",
    "\n",
    "# use pandas to extract rainfall inches as a NumPy array\n",
    "rainfall = pd.read_csv('Seattle2014.csv')['PRCP'].values\n",
    "inches = rainfall / 254.0      # 1/10mm -> inches\n",
    "inches.shape"
   ]
  },
  {
   "cell_type": "code",
   "execution_count": 20,
   "metadata": {},
   "outputs": [],
   "source": [
    "%matplotlib inline\n",
    "import matplotlib.pyplot as plt\n",
    "import seaborn; seaborn.set()    # set plot style"
   ]
  },
  {
   "cell_type": "code",
   "execution_count": 21,
   "metadata": {
    "scrolled": true
   },
   "outputs": [
    {
     "data": {
      "text/plain": [
       "(array([245.,  14.,  13.,  17.,   8.,   6.,   5.,   6.,   4.,   3.,   7.,\n",
       "          6.,   3.,   3.,   3.,   4.,   4.,   2.,   4.,   0.,   0.,   1.,\n",
       "          1.,   1.,   0.,   0.,   0.,   2.,   1.,   1.,   0.,   0.,   0.,\n",
       "          0.,   0.,   0.,   0.,   0.,   0.,   1.]),\n",
       " array([0.        , 0.04596457, 0.09192913, 0.1378937 , 0.18385827,\n",
       "        0.22982283, 0.2757874 , 0.32175197, 0.36771654, 0.4136811 ,\n",
       "        0.45964567, 0.50561024, 0.5515748 , 0.59753937, 0.64350394,\n",
       "        0.6894685 , 0.73543307, 0.78139764, 0.8273622 , 0.87332677,\n",
       "        0.91929134, 0.96525591, 1.01122047, 1.05718504, 1.10314961,\n",
       "        1.14911417, 1.19507874, 1.24104331, 1.28700787, 1.33297244,\n",
       "        1.37893701, 1.42490157, 1.47086614, 1.51683071, 1.56279528,\n",
       "        1.60875984, 1.65472441, 1.70068898, 1.74665354, 1.79261811,\n",
       "        1.83858268]),\n",
       " <a list of 40 Patch objects>)"
      ]
     },
     "execution_count": 21,
     "metadata": {},
     "output_type": "execute_result"
    },
    {
     "data": {
      "image/png": "[encoded data removed]",
      "text/plain": [
       "<Figure size 432x288 with 1 Axes>"
      ]
     },
     "metadata": {},
     "output_type": "display_data"
    }
   ],
   "source": [
    "plt.hist(inches, 40)"
   ]
  },
  {
   "cell_type": "markdown",
   "metadata": {},
   "source": [
    "---"
   ]
  },
  {
   "cell_type": "code",
   "execution_count": 22,
   "metadata": {},
   "outputs": [
    {
     "data": {
      "text/plain": [
       "array([ True,  True, False, False, False])"
      ]
     },
     "execution_count": 22,
     "metadata": {},
     "output_type": "execute_result"
    }
   ],
   "source": [
    "x = np.array([1, 2, 3, 4, 5])\n",
    "x < 3"
   ]
  },
  {
   "cell_type": "code",
   "execution_count": 23,
   "metadata": {},
   "outputs": [
    {
     "data": {
      "text/plain": [
       "array([False, False, False,  True,  True])"
      ]
     },
     "execution_count": 23,
     "metadata": {},
     "output_type": "execute_result"
    }
   ],
   "source": [
    "x > 3"
   ]
  },
  {
   "cell_type": "code",
   "execution_count": 24,
   "metadata": {},
   "outputs": [
    {
     "data": {
      "text/plain": [
       "array([False, False,  True, False, False])"
      ]
     },
     "execution_count": 24,
     "metadata": {},
     "output_type": "execute_result"
    }
   ],
   "source": [
    "x == 3"
   ]
  },
  {
   "cell_type": "code",
   "execution_count": 25,
   "metadata": {
    "scrolled": true
   },
   "outputs": [
    {
     "data": {
      "text/plain": [
       "array([False,  True, False, False, False])"
      ]
     },
     "execution_count": 25,
     "metadata": {},
     "output_type": "execute_result"
    }
   ],
   "source": [
    "(2 * x) == (x ** 2)"
   ]
  },
  {
   "cell_type": "code",
   "execution_count": 26,
   "metadata": {},
   "outputs": [
    {
     "data": {
      "text/plain": [
       "array([[5, 0, 3, 3],\n",
       "       [7, 9, 3, 5],\n",
       "       [2, 4, 7, 6]])"
      ]
     },
     "execution_count": 26,
     "metadata": {},
     "output_type": "execute_result"
    }
   ],
   "source": [
    "rng = np.random.RandomState(0)\n",
    "x = rng.randint(10, size=(3, 4))\n",
    "x"
   ]
  },
  {
   "cell_type": "code",
   "execution_count": 27,
   "metadata": {},
   "outputs": [
    {
     "data": {
      "text/plain": [
       "array([[5, 0, 3, 3],\n",
       "       [7, 9, 3, 5],\n",
       "       [2, 4, 7, 6]])"
      ]
     },
     "execution_count": 27,
     "metadata": {},
     "output_type": "execute_result"
    }
   ],
   "source": [
    "np.random.seed(0)\n",
    "x = np.random.randint(10, size=(3, 4))\n",
    "x"
   ]
  },
  {
   "cell_type": "code",
   "execution_count": 28,
   "metadata": {},
   "outputs": [
    {
     "data": {
      "text/plain": [
       "array([[ True,  True,  True,  True],\n",
       "       [False, False,  True,  True],\n",
       "       [ True,  True, False, False]])"
      ]
     },
     "execution_count": 28,
     "metadata": {},
     "output_type": "execute_result"
    }
   ],
   "source": [
    "x < 6"
   ]
  },
  {
   "cell_type": "code",
   "execution_count": 29,
   "metadata": {
    "scrolled": true
   },
   "outputs": [
    {
     "name": "stdout",
     "output_type": "stream",
     "text": [
      "[[5 0 3 3]\n",
      " [7 9 3 5]\n",
      " [2 4 7 6]]\n"
     ]
    }
   ],
   "source": [
    "print(x)"
   ]
  },
  {
   "cell_type": "markdown",
   "metadata": {},
   "source": [
    "### Counting entries\n",
    "\n",
    "#### 1 count_nonzero\n",
    "True의 개수를 세기 위해서 count_nonzero를 쓸 수 있습니다.  \n",
    "실은 이런 것은 True가 1로 취급되는 것과도 관계가 있습죠  "
   ]
  },
  {
   "cell_type": "code",
   "execution_count": 30,
   "metadata": {},
   "outputs": [
    {
     "data": {
      "text/plain": [
       "8"
      ]
     },
     "execution_count": 30,
     "metadata": {},
     "output_type": "execute_result"
    }
   ],
   "source": [
    "np.count_nonzero(x < 6)"
   ]
  },
  {
   "cell_type": "code",
   "execution_count": 37,
   "metadata": {},
   "outputs": [
    {
     "data": {
      "text/plain": [
       "(False, False, True, False)"
      ]
     },
     "execution_count": 37,
     "metadata": {},
     "output_type": "execute_result"
    }
   ],
   "source": [
    "True == -1, True == 0, True == 1, True == 2"
   ]
  },
  {
   "cell_type": "code",
   "execution_count": 38,
   "metadata": {},
   "outputs": [
    {
     "data": {
      "text/plain": [
       "(False, True, False, False)"
      ]
     },
     "execution_count": 38,
     "metadata": {},
     "output_type": "execute_result"
    }
   ],
   "source": [
    "False == -1, False == 0, False == 1, False == 2"
   ]
  },
  {
   "cell_type": "markdown",
   "metadata": {},
   "source": [
    "#### 2 np.sum( condition )\n",
    "\n",
    "조건을 만족하는 셀을 1로 보고 다 합한 것  \n",
    "앞의 counting nonzero values와 달리, 행렬 연산을 가미할 수 있다는 장점 있음!"
   ]
  },
  {
   "cell_type": "code",
   "execution_count": 40,
   "metadata": {},
   "outputs": [
    {
     "data": {
      "text/plain": [
       "8"
      ]
     },
     "execution_count": 40,
     "metadata": {},
     "output_type": "execute_result"
    }
   ],
   "source": [
    "np.sum(x < 6)"
   ]
  },
  {
   "cell_type": "code",
   "execution_count": 44,
   "metadata": {},
   "outputs": [
    {
     "data": {
      "text/plain": [
       "array([4, 2, 2])"
      ]
     },
     "execution_count": 44,
     "metadata": {},
     "output_type": "execute_result"
    }
   ],
   "source": [
    "# 각 행에 6보다 작은 수가 몇 개씩 있는가?\n",
    "np.sum(x < 6, axis=1)"
   ]
  },
  {
   "cell_type": "code",
   "execution_count": 46,
   "metadata": {},
   "outputs": [
    {
     "data": {
      "text/plain": [
       "(True, True, False)"
      ]
     },
     "execution_count": 46,
     "metadata": {},
     "output_type": "execute_result"
    }
   ],
   "source": [
    "np.any(x > 8), np.all(x < 10), np.all(x == 6)"
   ]
  },
  {
   "cell_type": "markdown",
   "metadata": {},
   "source": [
    "참고로 any와 all은 파이썬 개발자들이 or 와 and 쓰기도 귀찮아해서 전역함수로도 있습죠  \n",
    "\n",
    "아 그리고 주의사항! numpy array 타입에 대한 파이선 빌트인 함수 any, all, sum은 경우에 따라 오동작 할 수 있다고 합니다. 따라서 일관성 있게, 넘파이 객체에는 넘파이 오퍼레이션을!"
   ]
  },
  {
   "cell_type": "code",
   "execution_count": 53,
   "metadata": {},
   "outputs": [
    {
     "data": {
      "text/plain": [
       "(True, True, True)"
      ]
     },
     "execution_count": 53,
     "metadata": {},
     "output_type": "execute_result"
    }
   ],
   "source": [
    "age, birthmonth, sex = 29, 12, 'T'\n",
    "\n",
    "in_20s = 20 <= age <= 29\n",
    "born_in_winter = birthmonth in [12, 1, 2]\n",
    "sexual_minority = sex in 'LGBT'\n",
    "\n",
    "# if any of conditions is met,\n",
    "in_20s, born_in_winter, sexual_minority"
   ]
  },
  {
   "cell_type": "code",
   "execution_count": 57,
   "metadata": {},
   "outputs": [
    {
     "name": "stdout",
     "output_type": "stream",
     "text": [
      "True True\n"
     ]
    }
   ],
   "source": [
    "# 그런데말입니다, 게으른 파이썬 개발자들은,\n",
    "or_oper = in_20s or born_in_winter or sexual_minority\n",
    "any_oper = any( [in_20s, born_in_winter, sexual_minority] )\n",
    "print(or_oper, any_oper)"
   ]
  },
  {
   "cell_type": "code",
   "execution_count": 58,
   "metadata": {
    "scrolled": false
   },
   "outputs": [
    {
     "name": "stdout",
     "output_type": "stream",
     "text": [
      "True True\n"
     ]
    }
   ],
   "source": [
    "# or 대신에 and 로 연결된 조건 판별식은\n",
    "and_oper = in_20s and born_in_winter and sexual_minority\n",
    "all_oper = all([in_20s, born_in_winter, sexual_minority])\n",
    "print(and_oper, all_oper)"
   ]
  },
  {
   "cell_type": "markdown",
   "metadata": {},
   "source": [
    "### Boolean Operation"
   ]
  },
  {
   "cell_type": "code",
   "execution_count": 60,
   "metadata": {
    "scrolled": true
   },
   "outputs": [
    {
     "data": {
      "text/plain": [
       "29"
      ]
     },
     "execution_count": 60,
     "metadata": {},
     "output_type": "execute_result"
    }
   ],
   "source": [
    "np.sum( (inches > 0.5) & (inches < 1) )"
   ]
  },
  {
   "cell_type": "code",
   "execution_count": 62,
   "metadata": {},
   "outputs": [
    {
     "ename": "TypeError",
     "evalue": "ufunc 'bitwise_and' not supported for the input types, and the inputs could not be safely coerced to any supported types according to the casting rule ''safe''",
     "output_type": "error",
     "traceback": [
      "\u001b[0;31m---------------------------------------------------------------------------\u001b[0m",
      "\u001b[0;31mTypeError\u001b[0m                                 Traceback (most recent call last)",
      "\u001b[0;32m<ipython-input-62-346f409fc866>\u001b[0m in \u001b[0;36m<module>\u001b[0;34m\u001b[0m\n\u001b[0;32m----> 1\u001b[0;31m \u001b[0mnp\u001b[0m\u001b[0;34m.\u001b[0m\u001b[0msum\u001b[0m\u001b[0;34m(\u001b[0m \u001b[0minches\u001b[0m \u001b[0;34m>\u001b[0m \u001b[0;36m0.5\u001b[0m \u001b[0;34m&\u001b[0m \u001b[0minches\u001b[0m \u001b[0;34m<\u001b[0m \u001b[0;36m1\u001b[0m \u001b[0;34m)\u001b[0m\u001b[0;34m\u001b[0m\u001b[0m\n\u001b[0m",
      "\u001b[0;31mTypeError\u001b[0m: ufunc 'bitwise_and' not supported for the input types, and the inputs could not be safely coerced to any supported types according to the casting rule ''safe''"
     ]
    }
   ],
   "source": [
    "np.sum( inches > 0.5 & inches < 1 )"
   ]
  },
  {
   "cell_type": "code",
   "execution_count": 63,
   "metadata": {},
   "outputs": [
    {
     "data": {
      "text/plain": [
       "True"
      ]
     },
     "execution_count": 63,
     "metadata": {},
     "output_type": "execute_result"
    }
   ],
   "source": [
    "0.7 > 0.5 and 0.7 < 1"
   ]
  },
  {
   "cell_type": "code",
   "execution_count": 64,
   "metadata": {},
   "outputs": [
    {
     "data": {
      "text/plain": [
       "29"
      ]
     },
     "execution_count": 64,
     "metadata": {},
     "output_type": "execute_result"
    }
   ],
   "source": [
    "np.sum(~( (inches <= 0.5) | (inches >= 1) ))"
   ]
  },
  {
   "cell_type": "code",
   "execution_count": 66,
   "metadata": {},
   "outputs": [
    {
     "data": {
      "text/plain": [
       "True"
      ]
     },
     "execution_count": 66,
     "metadata": {},
     "output_type": "execute_result"
    }
   ],
   "source": [
    "not 0.7 < 0.5 and 0.7 < 1"
   ]
  },
  {
   "cell_type": "markdown",
   "metadata": {},
   "source": [
    "& : np.bitwise_and  \n",
    "^ : np.bitwise_xor  \n",
    "| : np.bitwise_or  \n",
    "~ : np.bitwise_not"
   ]
  },
  {
   "cell_type": "markdown",
   "metadata": {},
   "source": [
    "### Boolean Arrays and Masks"
   ]
  },
  {
   "cell_type": "code",
   "execution_count": 67,
   "metadata": {},
   "outputs": [
    {
     "data": {
      "text/plain": [
       "array([[5, 0, 3, 3],\n",
       "       [7, 9, 3, 5],\n",
       "       [2, 4, 7, 6]])"
      ]
     },
     "execution_count": 67,
     "metadata": {},
     "output_type": "execute_result"
    }
   ],
   "source": [
    "x"
   ]
  },
  {
   "cell_type": "code",
   "execution_count": 68,
   "metadata": {},
   "outputs": [
    {
     "data": {
      "text/plain": [
       "array([[False,  True,  True,  True],\n",
       "       [False, False,  True, False],\n",
       "       [ True,  True, False, False]])"
      ]
     },
     "execution_count": 68,
     "metadata": {},
     "output_type": "execute_result"
    }
   ],
   "source": [
    "x < 5"
   ]
  },
  {
   "cell_type": "code",
   "execution_count": 69,
   "metadata": {},
   "outputs": [
    {
     "data": {
      "text/plain": [
       "array([0, 3, 3, 3, 2, 4])"
      ]
     },
     "execution_count": 69,
     "metadata": {},
     "output_type": "execute_result"
    }
   ],
   "source": [
    "x[x < 5]"
   ]
  },
  {
   "cell_type": "code",
   "execution_count": 70,
   "metadata": {},
   "outputs": [
    {
     "name": "stdout",
     "output_type": "stream",
     "text": [
      "Median precip on rainy days in 2014 (inches):    0.19488188976377951\n",
      "Median precip on summer days in 2014 (inches):   0.0\n",
      "Maximum precip on summer days in 2014 (inches):  0.8503937007874016\n",
      "Median precip on non-summer rainy days (inches): 0.20078740157480315\n"
     ]
    }
   ],
   "source": [
    "# construct a mask of all rainy days\n",
    "rainy = (inches > 0)\n",
    "\n",
    "# construct a mask of all summer days (June 21st is the 172nd day)\n",
    "days = np.arange(365)\n",
    "summer = (days > 172) & (days < 262)\n",
    "\n",
    "print(\"Median precip on rainy days in 2014 (inches):   \",\n",
    "      np.median(inches[rainy]))\n",
    "print(\"Median precip on summer days in 2014 (inches):  \",\n",
    "      np.median(inches[summer]))\n",
    "print(\"Maximum precip on summer days in 2014 (inches): \",\n",
    "      np.max(inches[summer]))\n",
    "print(\"Median precip on non-summer rainy days (inches):\",\n",
    "      np.median(inches[rainy & ~summer]))"
   ]
  },
  {
   "cell_type": "markdown",
   "metadata": {},
   "source": [
    "### Aside: Using the keywords and/or versus the operators &/| "
   ]
  },
  {
   "cell_type": "code",
   "execution_count": 73,
   "metadata": {},
   "outputs": [
    {
     "data": {
      "text/plain": [
       "(True, True, False)"
      ]
     },
     "execution_count": 73,
     "metadata": {},
     "output_type": "execute_result"
    }
   ],
   "source": [
    "bool(1), bool(42), bool(0)"
   ]
  },
  {
   "cell_type": "code",
   "execution_count": 77,
   "metadata": {},
   "outputs": [
    {
     "data": {
      "text/plain": [
       "(False, True)"
      ]
     },
     "execution_count": 77,
     "metadata": {},
     "output_type": "execute_result"
    }
   ],
   "source": [
    "bool(42 and 0), bool(42 or 0)"
   ]
  },
  {
   "cell_type": "code",
   "execution_count": 81,
   "metadata": {},
   "outputs": [
    {
     "data": {
      "text/plain": [
       "(True, True, True, False)"
      ]
     },
     "execution_count": 81,
     "metadata": {},
     "output_type": "execute_result"
    }
   ],
   "source": [
    "bool(1), bool(2), bool(1 and 2), bool(1 & 2)"
   ]
  },
  {
   "cell_type": "code",
   "execution_count": 82,
   "metadata": {},
   "outputs": [
    {
     "data": {
      "text/plain": [
       "('0b1', '0b10', '0b0')"
      ]
     },
     "execution_count": 82,
     "metadata": {},
     "output_type": "execute_result"
    }
   ],
   "source": [
    "bin(1), bin(2), bin(1 & 2)"
   ]
  },
  {
   "cell_type": "markdown",
   "metadata": {},
   "source": [
    "## 7. Fancy Indexing\n",
    "\n",
    "Fancy indexing is like the simple indexing we've already seen, but we pass arrays of indeices in place of single scalars. This allows us to very quickly access and modify complicated subsets of an array's values"
   ]
  },
  {
   "cell_type": "code",
   "execution_count": 92,
   "metadata": {},
   "outputs": [
    {
     "name": "stdout",
     "output_type": "stream",
     "text": [
      "[51 92 14 71 60 20 82 86 74 74]\n"
     ]
    }
   ],
   "source": [
    "import numpy as np\n",
    "rand = np.random.RandomState(42)\n",
    "\n",
    "x = rand.randint(100, size=10)\n",
    "print(x)"
   ]
  },
  {
   "cell_type": "code",
   "execution_count": 93,
   "metadata": {},
   "outputs": [
    {
     "data": {
      "text/plain": [
       "[71, 86, 14]"
      ]
     },
     "execution_count": 93,
     "metadata": {},
     "output_type": "execute_result"
    }
   ],
   "source": [
    "[x[3], x[7], x[2]]"
   ]
  },
  {
   "cell_type": "code",
   "execution_count": 94,
   "metadata": {},
   "outputs": [
    {
     "data": {
      "text/plain": [
       "array([71, 86, 14])"
      ]
     },
     "execution_count": 94,
     "metadata": {},
     "output_type": "execute_result"
    }
   ],
   "source": [
    "ind = [3, 7, 2]\n",
    "x[ind]"
   ]
  },
  {
   "cell_type": "code",
   "execution_count": 95,
   "metadata": {},
   "outputs": [
    {
     "data": {
      "text/plain": [
       "array([[71, 86],\n",
       "       [60, 20]])"
      ]
     },
     "execution_count": 95,
     "metadata": {},
     "output_type": "execute_result"
    }
   ],
   "source": [
    "ind = np.array([[3, 7],\n",
    "                [4, 5]\n",
    "               ])\n",
    "x[ind]"
   ]
  },
  {
   "cell_type": "code",
   "execution_count": 96,
   "metadata": {},
   "outputs": [
    {
     "data": {
      "text/plain": [
       "array([[ 0,  1,  2,  3],\n",
       "       [ 4,  5,  6,  7],\n",
       "       [ 8,  9, 10, 11]])"
      ]
     },
     "execution_count": 96,
     "metadata": {},
     "output_type": "execute_result"
    }
   ],
   "source": [
    "X = np.arange(12).reshape((3, 4))\n",
    "X"
   ]
  },
  {
   "cell_type": "code",
   "execution_count": 98,
   "metadata": {},
   "outputs": [
    {
     "data": {
      "text/plain": [
       "array([[ 0,  1,  2,  3],\n",
       "       [ 4,  5,  6,  7],\n",
       "       [ 8,  9, 10, 11]])"
      ]
     },
     "execution_count": 98,
     "metadata": {},
     "output_type": "execute_result"
    }
   ],
   "source": [
    "X = np.arange(12).reshape((3, 4))\n",
    "X"
   ]
  },
  {
   "cell_type": "code",
   "execution_count": 100,
   "metadata": {},
   "outputs": [
    {
     "data": {
      "text/plain": [
       "array([ 2,  5, 11])"
      ]
     },
     "execution_count": 100,
     "metadata": {},
     "output_type": "execute_result"
    }
   ],
   "source": [
    "row = np.array([0, 1, 2])\n",
    "col = np.array([2, 1 ,3])\n",
    "X[row, col]"
   ]
  },
  {
   "cell_type": "markdown",
   "metadata": {},
   "source": [
    "Computation on Arrays: Broadcasting 에서 배운 바를 응용하면,  \n",
    "Sub-Array를 가져오는 신박한 방법을 추가할 수 있다  "
   ]
  },
  {
   "cell_type": "code",
   "execution_count": 101,
   "metadata": {
    "scrolled": true
   },
   "outputs": [
    {
     "data": {
      "text/plain": [
       "array([[ 2,  1,  3],\n",
       "       [ 6,  5,  7],\n",
       "       [10,  9, 11]])"
      ]
     },
     "execution_count": 101,
     "metadata": {},
     "output_type": "execute_result"
    }
   ],
   "source": [
    "X[row[:, np.newaxis], col]"
   ]
  },
  {
   "cell_type": "code",
   "execution_count": 102,
   "metadata": {},
   "outputs": [
    {
     "data": {
      "text/plain": [
       "array([[0],\n",
       "       [1],\n",
       "       [2]])"
      ]
     },
     "execution_count": 102,
     "metadata": {},
     "output_type": "execute_result"
    }
   ],
   "source": [
    "row[:, np.newaxis]"
   ]
  },
  {
   "cell_type": "code",
   "execution_count": 103,
   "metadata": {},
   "outputs": [
    {
     "data": {
      "text/plain": [
       "array([2, 1, 3])"
      ]
     },
     "execution_count": 103,
     "metadata": {},
     "output_type": "execute_result"
    }
   ],
   "source": [
    "col"
   ]
  },
  {
   "cell_type": "code",
   "execution_count": 104,
   "metadata": {},
   "outputs": [
    {
     "data": {
      "text/plain": [
       "array([[0, 0, 0],\n",
       "       [2, 1, 3],\n",
       "       [4, 2, 6]])"
      ]
     },
     "execution_count": 104,
     "metadata": {},
     "output_type": "execute_result"
    }
   ],
   "source": [
    "row[:, np.newaxis] * col"
   ]
  },
  {
   "cell_type": "markdown",
   "metadata": {},
   "source": [
    "### Combined Indexing\n",
    "이제 응용편입니다. 다른 데서 배운 Operation들과 엮어 봅시다"
   ]
  },
  {
   "cell_type": "code",
   "execution_count": 106,
   "metadata": {},
   "outputs": [
    {
     "name": "stdout",
     "output_type": "stream",
     "text": [
      "[[ 0  1  2  3]\n",
      " [ 4  5  6  7]\n",
      " [ 8  9 10 11]]\n"
     ]
    }
   ],
   "source": [
    "print(X)"
   ]
  },
  {
   "cell_type": "markdown",
   "metadata": {},
   "source": [
    "먼저 파이썬의 기본적인 리스트 오퍼레이션"
   ]
  },
  {
   "cell_type": "code",
   "execution_count": 110,
   "metadata": {},
   "outputs": [
    {
     "data": {
      "text/plain": [
       "array([10,  8,  9])"
      ]
     },
     "execution_count": 110,
     "metadata": {},
     "output_type": "execute_result"
    }
   ],
   "source": [
    "# 리스트 인덱싱\n",
    "\n",
    "X[2, [2, 0, 1]]"
   ]
  },
  {
   "cell_type": "code",
   "execution_count": 112,
   "metadata": {},
   "outputs": [
    {
     "data": {
      "text/plain": [
       "array([[ 6,  4,  5],\n",
       "       [10,  8,  9]])"
      ]
     },
     "execution_count": 112,
     "metadata": {},
     "output_type": "execute_result"
    }
   ],
   "source": [
    "# 리스트 슬라이싱!\n",
    "\n",
    "X[1:, [2, 0, 1]]"
   ]
  },
  {
   "cell_type": "code",
   "execution_count": 113,
   "metadata": {},
   "outputs": [
    {
     "data": {
      "text/plain": [
       "array([[ 0,  2],\n",
       "       [ 4,  6],\n",
       "       [ 8, 10]])"
      ]
     },
     "execution_count": 113,
     "metadata": {},
     "output_type": "execute_result"
    }
   ],
   "source": [
    "# 마스킹!\n",
    "\n",
    "mask = np.array([1, 0, 1, 0], dtype=bool)\n",
    "X[row[:, np.newaxis], mask]"
   ]
  },
  {
   "cell_type": "markdown",
   "metadata": {},
   "source": []
  },
  {
   "cell_type": "markdown",
   "metadata": {},
   "source": [
    "### Example: Selecting Random Points\n",
    "\n",
    "D차원에 분포된 N개의 점들을 나타내는 N * D 행렬이 있다고 할 때, 2차원 정규분포를 통해 포인트들을 추출해 내보기"
   ]
  },
  {
   "cell_type": "code",
   "execution_count": 114,
   "metadata": {},
   "outputs": [
    {
     "data": {
      "text/plain": [
       "(100, 2)"
      ]
     },
     "execution_count": 114,
     "metadata": {},
     "output_type": "execute_result"
    }
   ],
   "source": [
    "mean = [0, 0]\n",
    "cov = [\n",
    "    [1, 2],\n",
    "    [2, 5]\n",
    "]\n",
    "X = rand.multivariate_normal(mean, cov, 100)\n",
    "X.shape"
   ]
  },
  {
   "cell_type": "code",
   "execution_count": 121,
   "metadata": {},
   "outputs": [
    {
     "data": {
      "text/plain": [
       "array([[-0.644508  , -0.46220608],\n",
       "       [ 0.7376352 ,  1.21236921],\n",
       "       [ 0.88151763,  1.12795177],\n",
       "       [ 2.04998983,  5.97778598],\n",
       "       [-0.1711348 , -2.06258746]])"
      ]
     },
     "execution_count": 121,
     "metadata": {},
     "output_type": "execute_result"
    }
   ],
   "source": [
    "X[:5]"
   ]
  },
  {
   "cell_type": "code",
   "execution_count": 122,
   "metadata": {},
   "outputs": [
    {
     "data": {
      "image/png": "[encoded data removed]",
      "text/plain": [
       "<Figure size 432x288 with 1 Axes>"
      ]
     },
     "metadata": {},
     "output_type": "display_data"
    }
   ],
   "source": [
    "%matplotlib inline\n",
    "import matplotlib.pyplot as plt\n",
    "import seaborn; seaborn.set()  # for plot styling\n",
    "\n",
    "plt.scatter(X[:, 0], X[:, 1]);"
   ]
  },
  {
   "cell_type": "markdown",
   "metadata": {},
   "source": [
    "이제 20개의 임의의 점들을 추출해보겠습니다. 반복을 허용하지 않고 20개의 인덱스를 고른 다음, 원래 배열에서 해당하는 값들을 가져옵니다"
   ]
  },
  {
   "cell_type": "code",
   "execution_count": 123,
   "metadata": {},
   "outputs": [
    {
     "data": {
      "text/plain": [
       "array([26, 48, 10, 66, 96,  7, 91,  2, 90, 33, 22, 78, 75, 70, 82, 92, 16,\n",
       "       13, 21, 45])"
      ]
     },
     "execution_count": 123,
     "metadata": {},
     "output_type": "execute_result"
    }
   ],
   "source": [
    "indices = np.random.choice(X.shape[0], 20, replace=False)\n",
    "indices"
   ]
  },
  {
   "cell_type": "code",
   "execution_count": 124,
   "metadata": {},
   "outputs": [
    {
     "data": {
      "text/plain": [
       "(20, 2)"
      ]
     },
     "execution_count": 124,
     "metadata": {},
     "output_type": "execute_result"
    }
   ],
   "source": [
    "selection = X[indices]   # Fancy indexing here!\n",
    "selection.shape"
   ]
  },
  {
   "cell_type": "markdown",
   "metadata": {},
   "source": [
    "우리가 고른 임의 샘플이 도드라져 보이게, 아까의 평면에다 선택된 샘플은 원으로 한 번 감싸줍니다."
   ]
  },
  {
   "cell_type": "code",
   "execution_count": 131,
   "metadata": {},
   "outputs": [
    {
     "data": {
      "image/png": "[encoded data removed]",
      "text/plain": [
       "<Figure size 432x288 with 1 Axes>"
      ]
     },
     "metadata": {},
     "output_type": "display_data"
    }
   ],
   "source": [
    "plt.scatter(X[:, 0], X[:, 1], alpha=0.3)\n",
    "plt.scatter(selection[:, 0], selection[:, 1], facecolor='red', s=200, alpha=0.1);"
   ]
  },
  {
   "cell_type": "markdown",
   "metadata": {},
   "source": [
    "> 뭣이 중헌디?\n",
    "\n",
    "인공지능의 훈련은 보통 아래와 같습니다.\n",
    "- 수집한 데이터 셋을 훈련용과 테스트용으로 구분합니다. (경우에 따라, 훈련/검증/테스트로 분할 하기도 합니다)\n",
    "- 훈련용 세트를 바탕으로 목표한 수준의 정확도에 도달할 때까지 반복학습 시킵니다\n",
    "- 혹시나 과적합(overfitting) 되지는 않았는지, 일반화된 환경에서 설명력이 있는지 테스트 세트를 통해 다시 검사합니다.\n",
    "\n",
    "따라서 테스트 세트와 훈련용 세트가 잘 나뉘는 것이 중요하며, 특히나 테스트 세트가 치우쳐(biased) 있다면, 과적합이나 일반화 검사라는 취지에서 어긋나기에, 임의의 데이터를 추출하는 기법이 중요하고, __넘파이를 사용하면 이렇게나 간단하답니다?__"
   ]
  },
  {
   "cell_type": "markdown",
   "metadata": {},
   "source": [
    "### Modifying Values with Fancy Indexing\n",
    "\n",
    "단순히 부분 배열에 접근할 때 뿐만 아니라 값을 수정하는데도 사용할 수 있습니다."
   ]
  },
  {
   "cell_type": "code",
   "execution_count": 132,
   "metadata": {},
   "outputs": [
    {
     "name": "stdout",
     "output_type": "stream",
     "text": [
      "[array([ 0, 99, 99,  3, 99,  5,  6,  7, 99,  9])]\n"
     ]
    }
   ],
   "source": [
    "x = np.arange(10)\n",
    "i = np.array([2, 1, 8, 4])\n",
    "x[i] = 99\n",
    "print([x])"
   ]
  },
  {
   "cell_type": "code",
   "execution_count": 133,
   "metadata": {},
   "outputs": [
    {
     "name": "stdout",
     "output_type": "stream",
     "text": [
      "[ 0 89 89  3 89  5  6  7 89  9]\n"
     ]
    }
   ],
   "source": [
    "x[i] -= 10\n",
    "print(x)"
   ]
  },
  {
   "cell_type": "markdown",
   "metadata": {},
   "source": [
    "__주의할 것!__ 예상치 못한 결과를 가져올 수 있음"
   ]
  },
  {
   "cell_type": "code",
   "execution_count": 134,
   "metadata": {},
   "outputs": [
    {
     "name": "stdout",
     "output_type": "stream",
     "text": [
      "[6. 0. 0. 0. 0. 0. 0. 0. 0. 0.]\n"
     ]
    }
   ],
   "source": [
    "x = np.zeros(10)\n",
    "x[[0, 0]] = [4, 6]\n",
    "print(x)"
   ]
  },
  {
   "cell_type": "markdown",
   "metadata": {},
   "source": [
    "여기서 무슨 일이 벌어진 것일까요? 작성자는 뭘 의도했지요? 4는 어디있나요?\n",
    "```\n",
    "먼저 x[0]에 4가 대입되었다가\n",
    "다시 x[0]에 6이 대입되었다\n",
    "```"
   ]
  },
  {
   "cell_type": "code",
   "execution_count": 135,
   "metadata": {},
   "outputs": [
    {
     "data": {
      "text/plain": [
       "array([6., 0., 1., 1., 1., 0., 0., 0., 0., 0.])"
      ]
     },
     "execution_count": 135,
     "metadata": {},
     "output_type": "execute_result"
    }
   ],
   "source": [
    "i = [2, 3, 3, 4, 4, 4]\n",
    "x[i] += 1\n",
    "x"
   ]
  },
  {
   "cell_type": "markdown",
   "metadata": {},
   "source": [
    "아니 그럼 얘는 왜이런데요? 예측대로라면,\n",
    "```\n",
    "x[2] 에는 1이\n",
    "x[3] 에는 2가\n",
    "x[4] 에는 3이 할당되어야?\n",
    "```\n",
    "\n",
    "그러나 현실은 이렇습니다.\n",
    "```\n",
    "x[i] += 1은 x[i] = x[i] + 1 인데\n",
    "우변의 x[i]가 연산 전에 0으로 확정된 상태에서\n",
    "x[4] = 0 + 1을 세번한 꼴입니다.\n",
    "```"
   ]
  },
  {
   "cell_type": "markdown",
   "metadata": {},
   "source": [
    "> 마포대교는 무너졌냐?\n",
    "\n",
    "그럼 대안은 어떻게 해야할까요?"
   ]
  },
  {
   "cell_type": "code",
   "execution_count": 137,
   "metadata": {},
   "outputs": [
    {
     "name": "stdout",
     "output_type": "stream",
     "text": [
      "[0. 0. 1. 2. 3. 0. 0. 0. 0. 0.]\n"
     ]
    }
   ],
   "source": [
    "x = np.zeros(10)\n",
    "np.add.at(x, i, 1)\n",
    "print(x)"
   ]
  },
  {
   "cell_type": "markdown",
   "metadata": {},
   "source": [
    "여기서 .at() 메소드가 "
   ]
  },
  {
   "cell_type": "markdown",
   "metadata": {},
   "source": [
    "### Example: Binning Data\n",
    "\n",
    "히스토그램 그릴때 효율적으로 bin 데이터를 만들 수 있습니다. 만약 1000개의 값이 있고 빨리 어느 bin에 넣을 것인지 찾아야 한다면, ..."
   ]
  },
  {
   "cell_type": "code",
   "execution_count": 138,
   "metadata": {},
   "outputs": [],
   "source": [
    "np.random.seed(42)\n",
    "x = np.random.randn(100)\n",
    "\n",
    "# compute a histogram by hand\n",
    "bins = np.linspace(-5, 5, 20)\n",
    "counts = np.zeros_like(bins)\n",
    "\n",
    "# find the appropriate bin for each x\n",
    "i = np.searchsorted(bins, x)\n",
    "\n",
    "# add 1 to each of these bins\n",
    "np.add.at(counts, i, 1)"
   ]
  },
  {
   "cell_type": "code",
   "execution_count": 139,
   "metadata": {},
   "outputs": [
    {
     "data": {
      "text/plain": [
       "[<matplotlib.lines.Line2D at 0x121e1c978>]"
      ]
     },
     "execution_count": 139,
     "metadata": {},
     "output_type": "execute_result"
    },
    {
     "data": {
      "image/png": "[encoded data removed]",
      "text/plain": [
       "<Figure size 432x288 with 1 Axes>"
      ]
     },
     "metadata": {},
     "output_type": "display_data"
    }
   ],
   "source": [
    "# plot the results\n",
    "plt.plot(bins, counts, linestyle='steps')"
   ]
  },
  {
   "cell_type": "markdown",
   "metadata": {},
   "source": [
    "물론 사실 현실에선 Matplotlib의 plt.hist() 기능을 사용하시는게 일반적이지요. 위의 작업들은 예시로 듭니다"
   ]
  },
  {
   "cell_type": "code",
   "execution_count": 140,
   "metadata": {},
   "outputs": [
    {
     "data": {
      "image/png": "[encoded data removed]",
      "text/plain": [
       "<Figure size 432x288 with 1 Axes>"
      ]
     },
     "metadata": {},
     "output_type": "display_data"
    }
   ],
   "source": [
    "plt.hist(x, bins, histtype='step');"
   ]
  },
  {
   "cell_type": "markdown",
   "metadata": {},
   "source": [
    "---\n",
    "대체 무슨 일이 벌어지고 있는지 하나씩 따라가봅시다"
   ]
  },
  {
   "cell_type": "code",
   "execution_count": 168,
   "metadata": {},
   "outputs": [
    {
     "data": {
      "text/plain": [
       "(array([ 0.49671415, -0.1382643 ,  0.64768854,  1.52302986, -0.23415337,\n",
       "        -0.23413696,  1.57921282,  0.76743473, -0.46947439,  0.54256004,\n",
       "        -0.46341769, -0.46572975,  0.24196227, -1.91328024, -1.72491783,\n",
       "        -0.56228753, -1.01283112,  0.31424733, -0.90802408, -1.4123037 ,\n",
       "         1.46564877, -0.2257763 ,  0.0675282 , -1.42474819, -0.54438272,\n",
       "         0.11092259, -1.15099358,  0.37569802, -0.60063869, -0.29169375,\n",
       "        -0.60170661,  1.85227818, -0.01349722, -1.05771093,  0.82254491,\n",
       "        -1.22084365,  0.2088636 , -1.95967012, -1.32818605,  0.19686124,\n",
       "         0.73846658,  0.17136828, -0.11564828, -0.3011037 , -1.47852199,\n",
       "        -0.71984421, -0.46063877,  1.05712223,  0.34361829, -1.76304016,\n",
       "         0.32408397, -0.38508228, -0.676922  ,  0.61167629,  1.03099952,\n",
       "         0.93128012, -0.83921752, -0.30921238,  0.33126343,  0.97554513,\n",
       "        -0.47917424, -0.18565898, -1.10633497, -1.19620662,  0.81252582,\n",
       "         1.35624003, -0.07201012,  1.0035329 ,  0.36163603, -0.64511975,\n",
       "         0.36139561,  1.53803657, -0.03582604,  1.56464366, -2.6197451 ,\n",
       "         0.8219025 ,  0.08704707, -0.29900735,  0.09176078, -1.98756891,\n",
       "        -0.21967189,  0.35711257,  1.47789404, -0.51827022, -0.8084936 ,\n",
       "        -0.50175704,  0.91540212,  0.32875111, -0.5297602 ,  0.51326743,\n",
       "         0.09707755,  0.96864499, -0.70205309, -0.32766215, -0.39210815,\n",
       "        -1.46351495,  0.29612028,  0.26105527,  0.00511346, -0.23458713]),\n",
       " -2.6197451040897444,\n",
       " 1.8522781845089378)"
      ]
     },
     "execution_count": 168,
     "metadata": {},
     "output_type": "execute_result"
    }
   ],
   "source": [
    "x, x.min(), x.max()"
   ]
  },
  {
   "cell_type": "code",
   "execution_count": 150,
   "metadata": {},
   "outputs": [
    {
     "data": {
      "text/plain": [
       "array([-5.        , -4.47368421, -3.94736842, -3.42105263, -2.89473684,\n",
       "       -2.36842105, -1.84210526, -1.31578947, -0.78947368, -0.26315789,\n",
       "        0.26315789,  0.78947368,  1.31578947,  1.84210526,  2.36842105,\n",
       "        2.89473684,  3.42105263,  3.94736842,  4.47368421,  5.        ])"
      ]
     },
     "execution_count": 150,
     "metadata": {},
     "output_type": "execute_result"
    }
   ],
   "source": [
    "bins"
   ]
  },
  {
   "cell_type": "code",
   "execution_count": 164,
   "metadata": {
    "scrolled": true
   },
   "outputs": [
    {
     "name": "stdout",
     "output_type": "stream",
     "text": [
      "0 (-5.0, -4.473684210526316)\n",
      "1 (-4.473684210526316, -3.947368421052632)\n",
      "2 (-3.947368421052632, -3.4210526315789473)\n",
      "3 (-3.4210526315789473, -2.8947368421052633)\n",
      "4 (-2.8947368421052633, -2.368421052631579)\n",
      "5 (-2.368421052631579, -1.8421052631578947)\n",
      "6 (-1.8421052631578947, -1.3157894736842106)\n",
      "7 (-1.3157894736842106, -0.7894736842105265)\n",
      "8 (-0.7894736842105265, -0.2631578947368425)\n",
      "9 (-0.2631578947368425, 0.2631578947368416)\n",
      "10 (0.2631578947368416, 0.7894736842105257)\n",
      "11 (0.7894736842105257, 1.3157894736842106)\n",
      "12 (1.3157894736842106, 1.8421052631578947)\n",
      "13 (1.8421052631578947, 2.3684210526315788)\n",
      "14 (2.3684210526315788, 2.894736842105263)\n",
      "15 (2.894736842105263, 3.421052631578947)\n",
      "16 (3.421052631578947, 3.947368421052632)\n",
      "17 (3.947368421052632, 4.473684210526315)\n",
      "18 (4.473684210526315, 5.0)\n"
     ]
    }
   ],
   "source": [
    "bins_range = list(zip(bins[:-1], bins[1:]))\n",
    "for idx, b_rng in enumerate(bins_range):\n",
    "    print(idx, b_rng)"
   ]
  },
  {
   "cell_type": "code",
   "execution_count": null,
   "metadata": {},
   "outputs": [],
   "source": []
  },
  {
   "cell_type": "code",
   "execution_count": 142,
   "metadata": {},
   "outputs": [
    {
     "data": {
      "text/plain": [
       "array([0., 0., 0., 0., 0., 0., 0., 0., 0., 0., 0., 0., 0., 0., 0., 0., 0.,\n",
       "       0., 0., 0.])"
      ]
     },
     "execution_count": 142,
     "metadata": {},
     "output_type": "execute_result"
    }
   ],
   "source": [
    "np.zeros_like(bins)"
   ]
  },
  {
   "cell_type": "code",
   "execution_count": 143,
   "metadata": {},
   "outputs": [
    {
     "data": {
      "text/plain": [
       "20"
      ]
     },
     "execution_count": 143,
     "metadata": {},
     "output_type": "execute_result"
    }
   ],
   "source": [
    "len(np.zeros_like(bins))"
   ]
  },
  {
   "cell_type": "code",
   "execution_count": 148,
   "metadata": {},
   "outputs": [
    {
     "data": {
      "text/plain": [
       "array([11, 10, 11, 13, 10, 10, 13, 11,  9, 11,  9,  9, 10,  6,  7,  9,  8,\n",
       "       11,  8,  7, 13, 10, 10,  7,  9, 10,  8, 11,  9,  9,  9, 14, 10,  8,\n",
       "       12,  8, 10,  6,  7, 10, 11, 10, 10,  9,  7,  9,  9, 12, 11,  7, 11,\n",
       "        9,  9, 11, 12, 12,  8,  9, 11, 12,  9, 10,  8,  8, 12, 13, 10, 12,\n",
       "       11,  9, 11, 13, 10, 13,  5, 12, 10,  9, 10,  6, 10, 11, 13,  9,  8,\n",
       "        9, 12, 11,  9, 11, 10, 12,  9,  9,  9,  7, 11, 10, 10, 10])"
      ]
     },
     "execution_count": 148,
     "metadata": {},
     "output_type": "execute_result"
    }
   ],
   "source": [
    "np.searchsorted(bins, x)"
   ]
  },
  {
   "cell_type": "code",
   "execution_count": 149,
   "metadata": {},
   "outputs": [
    {
     "data": {
      "text/plain": [
       "(100,)"
      ]
     },
     "execution_count": 149,
     "metadata": {},
     "output_type": "execute_result"
    }
   ],
   "source": [
    "np.searchsorted(bins, x).shape"
   ]
  },
  {
   "cell_type": "code",
   "execution_count": 160,
   "metadata": {},
   "outputs": [
    {
     "data": {
      "text/plain": [
       "array([ 0.,  0.,  0.,  0.,  0.,  1.,  3.,  7.,  9., 23., 22., 17., 10.,\n",
       "        7.,  1.,  0.,  0.,  0.,  0.,  0.])"
      ]
     },
     "execution_count": 160,
     "metadata": {},
     "output_type": "execute_result"
    }
   ],
   "source": [
    "counts"
   ]
  },
  {
   "cell_type": "code",
   "execution_count": 175,
   "metadata": {},
   "outputs": [
    {
     "data": {
      "text/plain": [
       "(10,)"
      ]
     },
     "execution_count": 175,
     "metadata": {},
     "output_type": "execute_result"
    }
   ],
   "source": [
    "b = np.searchsorted(bins, x)\n",
    "b[b==12].shape"
   ]
  },
  {
   "cell_type": "code",
   "execution_count": 176,
   "metadata": {},
   "outputs": [
    {
     "data": {
      "text/plain": [
       "array([0.82254491, 1.05712223, 1.03099952, 0.93128012, 0.97554513,\n",
       "       0.81252582, 1.0035329 , 0.8219025 , 0.91540212, 0.96864499])"
      ]
     },
     "execution_count": 176,
     "metadata": {},
     "output_type": "execute_result"
    }
   ],
   "source": [
    "c = x[0.7894736842105257 <= x]\n",
    "d = c[c < 1.3157894736842106]\n",
    "d\n",
    "\n"
   ]
  },
  {
   "cell_type": "markdown",
   "metadata": {},
   "source": [
    "---\n",
    "다시 본론으로 돌아와서"
   ]
  },
  {
   "cell_type": "code",
   "execution_count": 177,
   "metadata": {},
   "outputs": [
    {
     "name": "stdout",
     "output_type": "stream",
     "text": [
      "NumPy routin:\n",
      "25.7 µs ± 905 ns per loop (mean ± std. dev. of 7 runs, 10000 loops each)\n",
      "Custom routine:\n",
      "16.1 µs ± 96.5 ns per loop (mean ± std. dev. of 7 runs, 100000 loops each)\n"
     ]
    }
   ],
   "source": [
    "print(\"NumPy routin:\")\n",
    "%timeit counts, edges = np.histogram(x, bins)\n",
    "\n",
    "print(\"Custom routine:\")\n",
    "%timeit np.add.at(counts, np.searchsorted(bins, x), 1)"
   ]
  },
  {
   "cell_type": "markdown",
   "metadata": {},
   "source": [
    "놀랍게도 우리가 만든 1줄짜리 코드가 NumPy의 함수보다 빠른데, 그 근본적인 이유는 np.histogram은 여러 케이스에 유연하게 대응하기 위해 유연하게 설계되었고, 대량의 수를 처리할때 빠르도록 설계되었기 때문입니다"
   ]
  },
  {
   "cell_type": "code",
   "execution_count": 178,
   "metadata": {},
   "outputs": [
    {
     "name": "stdout",
     "output_type": "stream",
     "text": [
      "NumPy routine:\n",
      "69.4 ms ± 912 µs per loop (mean ± std. dev. of 7 runs, 10 loops each)\n",
      "Custom routine:\n",
      "124 ms ± 974 µs per loop (mean ± std. dev. of 7 runs, 10 loops each)\n"
     ]
    }
   ],
   "source": [
    "x = np.random.randn(1000000)\n",
    "print(\"NumPy routine:\")\n",
    "%timeit counts, edges = np.histogram(x, bins)\n",
    "\n",
    "print(\"Custom routine:\")\n",
    "%timeit np.add.at(counts, np.searchsorted(bins, x), 1)"
   ]
  },
  {
   "cell_type": "markdown",
   "metadata": {},
   "source": [
    "이렇게 보면, 어떤 알고리즘의 효율성은 절대 단순한 문제가 아닙니다. 어떤 알고리즘이 대량의 자료에 효율적이라는 뜻은 작은 데이터셋에서도 효율을 보장할 수 있지 않기 때문입니다. 역도 성립합니다.   \n",
    "\n",
    "파이썬의 데이터 집중형 어플리케이션 만들때는 np.histogram과 같은 일반적인 편리한 함수들을 알아두면서, 또한 경우에 따라서 필요할 때에는 직접 저레벨의 기능을 활용할 줄도 알아야 하는 것이지요. 아, 피곤하네..."
   ]
  },
  {
   "cell_type": "markdown",
   "metadata": {},
   "source": [
    "## 8. Sorting"
   ]
  },
  {
   "cell_type": "code",
   "execution_count": null,
   "metadata": {},
   "outputs": [],
   "source": []
  },
  {
   "cell_type": "code",
   "execution_count": null,
   "metadata": {},
   "outputs": [],
   "source": []
  },
  {
   "cell_type": "code",
   "execution_count": null,
   "metadata": {},
   "outputs": [],
   "source": []
  },
  {
   "cell_type": "code",
   "execution_count": null,
   "metadata": {},
   "outputs": [],
   "source": []
  },
  {
   "cell_type": "code",
   "execution_count": null,
   "metadata": {},
   "outputs": [],
   "source": []
  },
  {
   "cell_type": "code",
   "execution_count": null,
   "metadata": {},
   "outputs": [],
   "source": []
  },
  {
   "cell_type": "code",
   "execution_count": null,
   "metadata": {},
   "outputs": [],
   "source": []
  },
  {
   "cell_type": "code",
   "execution_count": null,
   "metadata": {},
   "outputs": [],
   "source": []
  },
  {
   "cell_type": "markdown",
   "metadata": {},
   "source": [
    "## 9. Structured Array"
   ]
  },
  {
   "cell_type": "code",
   "execution_count": null,
   "metadata": {},
   "outputs": [],
   "source": []
  },
  {
   "cell_type": "code",
   "execution_count": null,
   "metadata": {},
   "outputs": [],
   "source": []
  },
  {
   "cell_type": "code",
   "execution_count": null,
   "metadata": {},
   "outputs": [],
   "source": []
  },
  {
   "cell_type": "code",
   "execution_count": null,
   "metadata": {},
   "outputs": [],
   "source": []
  },
  {
   "cell_type": "code",
   "execution_count": null,
   "metadata": {},
   "outputs": [],
   "source": []
  },
  {
   "cell_type": "code",
   "execution_count": null,
   "metadata": {},
   "outputs": [],
   "source": []
  },
  {
   "cell_type": "code",
   "execution_count": null,
   "metadata": {},
   "outputs": [],
   "source": []
  },
  {
   "cell_type": "code",
   "execution_count": null,
   "metadata": {},
   "outputs": [],
   "source": []
  },
  {
   "cell_type": "code",
   "execution_count": null,
   "metadata": {},
   "outputs": [],
   "source": []
  },
  {
   "cell_type": "markdown",
   "metadata": {},
   "source": [
    "# Wrap-Up\n",
    "\n",
    "넘파이는\n",
    "- 수치 데이터에 한해서\n",
    "- 더 효율적인 데이터 타입과\n",
    "- 더 빠른 집합처리를 가능케 하여\n",
    "\n",
    "일반목적용 프로그래밍 언어인 파이썬을  \n",
    "통계학 프로그래밍 언어까지 넘볼 수 있게 해주었다.  \n",
    "\n",
    "보통은 통계용 전문 프로그래밍 언어가 따로 있어 왔다.  \n",
    "현재도 R, Julia 등이 파이썬의 강력한 경쟁자이다.   \n",
    "\n",
    "다음 이 시간에는,  \n",
    "- 수치 데이터에 한해서가 아니라 문자/카테고리 데이터까지 포함하여\n",
    "- np.array보다 더 일반화된 tabular 데이터 처리를 위한 타입을 제공하는\n",
    "\n",
    "Pandas에 대해서 알아볼 예정이다"
   ]
  },
  {
   "cell_type": "code",
   "execution_count": null,
   "metadata": {},
   "outputs": [],
   "source": []
  }
 ],
 "metadata": {
  "kernelspec": {
   "display_name": "Python 3",
   "language": "python",
   "name": "python3"
  },
  "language_info": {
   "codemirror_mode": {
    "name": "ipython",
    "version": 3
   },
   "file_extension": ".py",
   "mimetype": "text/x-python",
   "name": "python",
   "nbconvert_exporter": "python",
   "pygments_lexer": "ipython3",
   "version": "3.6.5"
  }
 },
 "nbformat": 4,
 "nbformat_minor": 2
}
