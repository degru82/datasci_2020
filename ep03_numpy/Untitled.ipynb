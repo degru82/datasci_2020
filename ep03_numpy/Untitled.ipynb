{
 "cells": [
  {
   "cell_type": "markdown",
   "metadata": {},
   "source": [
    "# EP 3. NumPy Study\n",
    "- NumPy란 무엇일까\n",
    "- NumPy가 왜 필요할까\n",
    "- NumPy를 Case Study로 배워보기\n",
    "- Wrap-Up"
   ]
  },
  {
   "cell_type": "code",
   "execution_count": 1,
   "metadata": {},
   "outputs": [
    {
     "data": {
      "text/plain": [
       "'1.16.1'"
      ]
     },
     "execution_count": 1,
     "metadata": {},
     "output_type": "execute_result"
    }
   ],
   "source": [
    "import numpy as np\n",
    "np.__version__"
   ]
  },
  {
   "cell_type": "markdown",
   "metadata": {},
   "source": [
    "# NumPy 란 무엇일까"
   ]
  },
  {
   "cell_type": "code",
   "execution_count": null,
   "metadata": {},
   "outputs": [],
   "source": []
  },
  {
   "cell_type": "markdown",
   "metadata": {},
   "source": [
    "# NumPy 가 왜 필요할까?"
   ]
  },
  {
   "cell_type": "markdown",
   "metadata": {},
   "source": [
    "## 통계용 언어와 일반 목적용 언어의 근본적인 차이점  \n",
    "- [1, 2, 3] + [4, 5, 6]의 값은?"
   ]
  },
  {
   "cell_type": "code",
   "execution_count": 3,
   "metadata": {},
   "outputs": [
    {
     "name": "stdout",
     "output_type": "stream",
     "text": [
      "[1, 2, 3, 4, 5, 6]\n"
     ]
    }
   ],
   "source": [
    "# 일반 목적용 Python은 이렇게 답한다\n",
    "\n",
    "a = [1, 2, 3]\n",
    "b = [4, 5, 6]\n",
    "\n",
    "c = a + b\n",
    "print(c)"
   ]
  },
  {
   "cell_type": "markdown",
   "metadata": {},
   "source": [
    "## 상황에 과몰입하기\n",
    "\n",
    "LG CNS의 지존이신 김영섭 사장님께서 당신을 호출하셨다.  \n",
    "그리고는 이렇게 말씀하셨다.  \n",
    "\n",
    "\"임자, 내가 인사부 시켜서 TCT 설문조사를 했으이.  \n",
    "긍께, 한 5천명 정도의 개발언어 점수와 BA 모델링 점수, 그리고 산업역량 평가여  \n",
    "아 근데, 내가 이걸 엑셀에서 로딩할라치면 엑셀이 터지는 거여.  \n",
    "임자가 간편하게 평균을 구해줄 수 있능감?  \n",
    "단, for 루프는 한 번만 쓸 수 있다고 한다.\"  \n",
    "\n",
    "당신은, 엑셀을 다시 설치해보시거나 다른 컴퓨터에서 로딩해 보기를 권하고 싶지만  \n",
    "워낙 살벌한 눈빛이라 그런 말을 하지 못하고 나왔다.  \n",
    "하지만 중요한 일도 아니고 이걸 코딩하는데 시간을 쏟고 싶지 않았다  \n",
    "도와줘요 파이썬!"
   ]
  },
  {
   "cell_type": "code",
   "execution_count": 16,
   "metadata": {},
   "outputs": [],
   "source": [
    "# General Purpose용 언어로만 짠다면,\n",
    "\n",
    "samp_dat = [\n",
    "    [1, 2, 3],\n",
    "    [4, 5, 6],\n",
    "    [7, 8, 9],\n",
    "]   "
   ]
  },
  {
   "cell_type": "code",
   "execution_count": 17,
   "metadata": {},
   "outputs": [
    {
     "name": "stdout",
     "output_type": "stream",
     "text": [
      "4.0 5.0 6.0\n"
     ]
    }
   ],
   "source": [
    "total_count = len(samp_dat)\n",
    "sum_dev, sum_ba, sum_indust = 0, 0, 0\n",
    "\n",
    "for tct_dev, tct_ba, lcp_indust in samp_dat:\n",
    "    \n",
    "    # 컬럼이 딸랑 3개라서 3줄\n",
    "    sum_dev += tct_dev\n",
    "    sum_ba += tct_ba\n",
    "    sum_indust += lcp_indust\n",
    "    \n",
    "mean_dev = sum_dev / total_count\n",
    "mean_ba = sum_ba / total_count\n",
    "mean_indust = sum_indust / total_count\n",
    "\n",
    "print(mean_dev, mean_ba, mean_indust)"
   ]
  },
  {
   "cell_type": "code",
   "execution_count": 19,
   "metadata": {},
   "outputs": [
    {
     "name": "stdout",
     "output_type": "stream",
     "text": [
      "[4. 5. 6.]\n"
     ]
    }
   ],
   "source": [
    "sum_arr = np.array([0.0, 0.0, 0.0])\n",
    "total_count = len(samp_dat)\n",
    "\n",
    "for lst in samp_dat:\n",
    "    \n",
    "    # 컬럼 갯수랑 상관 없!\n",
    "    temp_arr = np.array(lst)\n",
    "    sum_arr += temp_arr\n",
    "    \n",
    "print(sum_arr / total_count)"
   ]
  },
  {
   "cell_type": "markdown",
   "metadata": {},
   "source": [
    "# NumPy 를 Case Study 로 배워보기"
   ]
  },
  {
   "cell_type": "code",
   "execution_count": null,
   "metadata": {},
   "outputs": [],
   "source": []
  },
  {
   "cell_type": "markdown",
   "metadata": {},
   "source": [
    "# Wrap-Up\n",
    "\n",
    "넘파이는\n",
    "- 수치 데이터에 한해서\n",
    "- 더 효율적인 데이터 타입과\n",
    "- 더 빠른 집합처리를 가능케 하여\n",
    "\n",
    "일반목적용 프로그래밍 언어인 파이썬을  \n",
    "통계학 프로그래밍 언어까지 넘볼 수 있게 해주었다.  \n",
    "\n",
    "보통은 통계용 전문 프로그래밍 언어가 따로 있어 왔다.  \n",
    "현재도 R, Julia 등이 파이썬의 강력한 경쟁자이다.   \n",
    "\n",
    "다음 이 시간에는,  \n",
    "- 수치 데이터에 한해서가 아니라 문자/카테고리 데이터까지 포함하여\n",
    "- np.array보다 더 일반화된 tabular 데이터 처리를 위한 타입을 제공하는\n",
    "\n",
    "Pandas에 대해서 알아볼 예정이다"
   ]
  },
  {
   "cell_type": "code",
   "execution_count": null,
   "metadata": {},
   "outputs": [],
   "source": []
  }
 ],
 "metadata": {
  "kernelspec": {
   "display_name": "Python 3",
   "language": "python",
   "name": "python3"
  },
  "language_info": {
   "codemirror_mode": {
    "name": "ipython",
    "version": 3
   },
   "file_extension": ".py",
   "mimetype": "text/x-python",
   "name": "python",
   "nbconvert_exporter": "python",
   "pygments_lexer": "ipython3",
   "version": "3.6.5"
  }
 },
 "nbformat": 4,
 "nbformat_minor": 2
}
